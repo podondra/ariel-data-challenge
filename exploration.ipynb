{
 "cells": [
  {
   "cell_type": "markdown",
   "id": "208c4432-469d-4138-afd8-b340f344a2ae",
   "metadata": {},
   "source": [
    "# Data exploration"
   ]
  },
  {
   "cell_type": "code",
   "execution_count": 1,
   "id": "09068920-eaf8-452c-8b8c-8e4102b902a9",
   "metadata": {},
   "outputs": [],
   "source": [
    "import h5py\n",
    "from matplotlib import pyplot as plt\n",
    "import numpy as np\n",
    "import pandas as pd\n",
    "from scipy.stats import norm\n",
    "\n",
    "from ariel import *"
   ]
  },
  {
   "cell_type": "code",
   "execution_count": 2,
   "id": "0532389b-3921-4504-80a8-cc8c9a322d28",
   "metadata": {},
   "outputs": [
    {
     "data": {
      "text/plain": [
       "7239"
      ]
     },
     "execution_count": 2,
     "metadata": {},
     "output_type": "execute_result"
    }
   ],
   "source": [
    "rng = np.random.default_rng()\n",
    "i = rng.integers(N_ANNOTATED)\n",
    "i"
   ]
  },
  {
   "cell_type": "markdown",
   "id": "c73f60ab-30e7-4738-8ba2-bda5b9cfe0fb",
   "metadata": {},
   "source": [
    "## Spectra"
   ]
  },
  {
   "cell_type": "code",
   "execution_count": 3,
   "id": "6418a7ba-ae90-4dc9-8876-2276409e09e6",
   "metadata": {},
   "outputs": [
    {
     "data": {
      "text/plain": [
       "<KeysViewHDF5 ['instrument_noise', 'instrument_spectrum', 'instrument_width', 'instrument_wlgrid']>"
      ]
     },
     "execution_count": 3,
     "metadata": {},
     "output_type": "execute_result"
    }
   ],
   "source": [
    "spectrafile = h5py.File(\"data/train/spectra.hdf5\", \"r\")\n",
    "grp = spectrafile[\"Planet_\" + str(i)]\n",
    "grp.keys()"
   ]
  },
  {
   "cell_type": "code",
   "execution_count": 4,
   "id": "efe1d554-8871-4ed9-896e-cce67559327f",
   "metadata": {},
   "outputs": [],
   "source": [
    "spectrum = grp[\"instrument_spectrum\"][:]\n",
    "noise = grp[\"instrument_noise\"][:]\n",
    "width = grp[\"instrument_width\"][:]\n",
    "wlgrid = grp[\"instrument_wlgrid\"][:]"
   ]
  },
  {
   "cell_type": "code",
   "execution_count": 5,
   "id": "5cb3a3f5-af8e-48a7-8304-b8d23fd0fb9f",
   "metadata": {},
   "outputs": [
    {
     "data": {
      "text/plain": [
       "(dtype('float64'), (52,))"
      ]
     },
     "execution_count": 5,
     "metadata": {},
     "output_type": "execute_result"
    }
   ],
   "source": [
    "spectrum.dtype, spectrum.shape"
   ]
  },
  {
   "cell_type": "code",
   "execution_count": 6,
   "id": "cc8da080-ec01-4c94-9f6a-f261f5465bcf",
   "metadata": {},
   "outputs": [
    {
     "data": {
      "text/plain": [
       "(dtype('float64'), (52,))"
      ]
     },
     "execution_count": 6,
     "metadata": {},
     "output_type": "execute_result"
    }
   ],
   "source": [
    "noise.dtype, noise.shape"
   ]
  },
  {
   "cell_type": "code",
   "execution_count": 7,
   "id": "1abe53f5-3d19-4fe0-9ff0-f8b80109654d",
   "metadata": {},
   "outputs": [
    {
     "data": {
      "text/plain": [
       "(dtype('float64'), (52,))"
      ]
     },
     "execution_count": 7,
     "metadata": {},
     "output_type": "execute_result"
    }
   ],
   "source": [
    "width.dtype, width.shape"
   ]
  },
  {
   "cell_type": "code",
   "execution_count": 8,
   "id": "5e3f38fc-5945-4abb-b633-0004d08c5d4a",
   "metadata": {},
   "outputs": [
    {
     "data": {
      "text/plain": [
       "(dtype('float64'), (52,))"
      ]
     },
     "execution_count": 8,
     "metadata": {},
     "output_type": "execute_result"
    }
   ],
   "source": [
    "wlgrid.dtype, wlgrid.shape"
   ]
  },
  {
   "cell_type": "code",
   "execution_count": 9,
   "id": "64f2e809-264c-4a37-a10a-fcc75c5b9763",
   "metadata": {},
   "outputs": [
    {
     "data": {
      "text/plain": [
       "0.02294326270902845"
      ]
     },
     "execution_count": 9,
     "metadata": {},
     "output_type": "execute_result"
    }
   ],
   "source": [
    "spectrum.mean()"
   ]
  },
  {
   "cell_type": "code",
   "execution_count": 10,
   "id": "b915a02a-c3f1-4846-8ec1-4016131762dc",
   "metadata": {},
   "outputs": [
    {
     "data": {
      "image/png": "[encoded data removed]",
      "text/plain": [
       "<Figure size 432x288 with 2 Axes>"
      ]
     },
     "metadata": {
      "needs_background": "light"
     },
     "output_type": "display_data"
    }
   ],
   "source": [
    "fig, (ax1, ax2) = plt.subplots(nrows=2, sharex=True)\n",
    "ax1.plot(wlgrid, spectrum)\n",
    "ax2.errorbar(wlgrid, spectrum, noise)\n",
    "ax2.set_xscale(\"log\")"
   ]
  },
  {
   "cell_type": "code",
   "execution_count": 11,
   "id": "024e5b6b-ad70-4919-ab48-dd82d5898c1e",
   "metadata": {},
   "outputs": [
    {
     "data": {
      "text/plain": [
       "array([7.2755592 , 6.81373911, 6.3812333 , 5.97618103, 5.59683967,\n",
       "       5.24157722, 4.90886524, 4.59727234, 4.30545796, 4.03216667,\n",
       "       3.72344897, 3.65008232, 3.57816128, 3.50765736, 3.43854266,\n",
       "       3.37078978, 3.30437191, 3.23926272, 3.17543645, 3.11286781,\n",
       "       3.05153202, 2.99140478, 2.93246229, 2.8746812 , 2.81803862,\n",
       "       2.76251213, 2.70807972, 2.65471985, 2.60241139, 2.5511336 ,\n",
       "       2.50086619, 2.45158925, 2.40328325, 2.35592908, 2.30950797,\n",
       "       2.26400154, 2.21939176, 2.17566098, 2.13279186, 2.09076743,\n",
       "       2.04957106, 2.00918641, 1.9695975 , 1.88361302, 1.70849254,\n",
       "       1.5496531 , 1.40558104, 1.27490344, 1.156375  , 0.95      ,\n",
       "       0.7       , 0.55      ])"
      ]
     },
     "execution_count": 11,
     "metadata": {},
     "output_type": "execute_result"
    }
   ],
   "source": [
    "# reverse order?\n",
    "wlgrid"
   ]
  },
  {
   "cell_type": "code",
   "execution_count": 12,
   "id": "9de7fd34-e75d-4f99-bf66-f5a794b7ced9",
   "metadata": {},
   "outputs": [
    {
     "data": {
      "text/plain": [
       "52"
      ]
     },
     "execution_count": 12,
     "metadata": {},
     "output_type": "execute_result"
    }
   ],
   "source": [
    "N_WAVES = wlgrid.shape[0]\n",
    "N_WAVES"
   ]
  },
  {
   "cell_type": "code",
   "execution_count": 13,
   "id": "721d85b2-0274-4bfe-81f9-cd2ffb8db389",
   "metadata": {},
   "outputs": [
    {
     "data": {
      "text/plain": [
       "array([0.47747067, 0.44716295, 0.41877904, 0.39219681, 0.36730191,\n",
       "       0.34398722, 0.32215244, 0.30170364, 0.28255283, 0.26461764,\n",
       "       0.07410399, 0.07264385, 0.07121248, 0.06980931, 0.06843379,\n",
       "       0.06708537, 0.06576353, 0.06446773, 0.06319746, 0.06195222,\n",
       "       0.06073151, 0.05953486, 0.05836179, 0.05721183, 0.05608453,\n",
       "       0.05497945, 0.05389614, 0.05283417, 0.05179313, 0.0507726 ,\n",
       "       0.04977218, 0.04879147, 0.04783008, 0.04688764, 0.04596377,\n",
       "       0.0450581 , 0.04417028, 0.04329995, 0.04244677, 0.0416104 ,\n",
       "       0.04079051, 0.03998678, 0.03919888, 0.18409541, 0.16697996,\n",
       "       0.15145575, 0.13737483, 0.12460302, 0.11301861, 0.30767045,\n",
       "       0.20416667, 0.10083333])"
      ]
     },
     "execution_count": 13,
     "metadata": {},
     "output_type": "execute_result"
    }
   ],
   "source": [
    "width"
   ]
  },
  {
   "cell_type": "code",
   "execution_count": 14,
   "id": "c52542f9-49ae-486a-a813-773ade22c16a",
   "metadata": {},
   "outputs": [
    {
     "data": {
      "text/plain": [
       "<matplotlib.collections.PathCollection at 0x7f3ddc4fe2e0>"
      ]
     },
     "execution_count": 14,
     "metadata": {},
     "output_type": "execute_result"
    },
    {
     "data": {
      "image/png": "[encoded data removed]",
      "text/plain": [
       "<Figure size 432x288 with 2 Axes>"
      ]
     },
     "metadata": {
      "needs_background": "light"
     },
     "output_type": "display_data"
    }
   ],
   "source": [
    "fig, (ax1, ax2) = plt.subplots(nrows=2)\n",
    "ax1.scatter(np.arange(N_WAVES), wlgrid)\n",
    "ax2.scatter(np.arange(N_WAVES), width)"
   ]
  },
  {
   "cell_type": "markdown",
   "id": "a14ffa81-cdef-4cf9-9a2f-2df09cebe65e",
   "metadata": {},
   "source": [
    "## Auxillary table"
   ]
  },
  {
   "cell_type": "code",
   "execution_count": 15,
   "id": "f08feac0-efe5-4118-a9be-62c119c98e51",
   "metadata": {},
   "outputs": [
    {
     "data": {
      "text/html": [
       "<div>\n",
       "<style scoped>\n",
       "    .dataframe tbody tr th:only-of-type {\n",
       "        vertical-align: middle;\n",
       "    }\n",
       "\n",
       "    .dataframe tbody tr th {\n",
       "        vertical-align: top;\n",
       "    }\n",
       "\n",
       "    .dataframe thead th {\n",
       "        text-align: right;\n",
       "    }\n",
       "</style>\n",
       "<table border=\"1\" class=\"dataframe\">\n",
       "  <thead>\n",
       "    <tr style=\"text-align: right;\">\n",
       "      <th></th>\n",
       "      <th>star_distance</th>\n",
       "      <th>star_mass_kg</th>\n",
       "      <th>star_radius_m</th>\n",
       "      <th>star_temperature</th>\n",
       "      <th>planet_mass_kg</th>\n",
       "      <th>planet_orbital_period</th>\n",
       "      <th>planet_distance</th>\n",
       "      <th>planet_radius_m</th>\n",
       "      <th>planet_surface_gravity</th>\n",
       "    </tr>\n",
       "    <tr>\n",
       "      <th>planet_ID</th>\n",
       "      <th></th>\n",
       "      <th></th>\n",
       "      <th></th>\n",
       "      <th></th>\n",
       "      <th></th>\n",
       "      <th></th>\n",
       "      <th></th>\n",
       "      <th></th>\n",
       "      <th></th>\n",
       "    </tr>\n",
       "  </thead>\n",
       "  <tbody>\n",
       "    <tr>\n",
       "      <th>0</th>\n",
       "      <td>100.0510</td>\n",
       "      <td>1.531871e+30</td>\n",
       "      <td>612216000.0</td>\n",
       "      <td>5053.0</td>\n",
       "      <td>4.994682e+25</td>\n",
       "      <td>3.646200</td>\n",
       "      <td>0.042501</td>\n",
       "      <td>1.751739e+07</td>\n",
       "      <td>10.389141</td>\n",
       "    </tr>\n",
       "    <tr>\n",
       "      <th>1</th>\n",
       "      <td>28.2938</td>\n",
       "      <td>1.536643e+30</td>\n",
       "      <td>542646000.0</td>\n",
       "      <td>5071.0</td>\n",
       "      <td>3.040857e+25</td>\n",
       "      <td>16.201656</td>\n",
       "      <td>0.114991</td>\n",
       "      <td>1.309706e+07</td>\n",
       "      <td>11.315104</td>\n",
       "    </tr>\n",
       "    <tr>\n",
       "      <th>2</th>\n",
       "      <td>258.8930</td>\n",
       "      <td>1.888989e+30</td>\n",
       "      <td>688743000.0</td>\n",
       "      <td>5416.0</td>\n",
       "      <td>9.850620e+25</td>\n",
       "      <td>88.406553</td>\n",
       "      <td>0.381830</td>\n",
       "      <td>2.628654e+07</td>\n",
       "      <td>9.099284</td>\n",
       "    </tr>\n",
       "    <tr>\n",
       "      <th>3</th>\n",
       "      <td>1010.2800</td>\n",
       "      <td>2.087830e+30</td>\n",
       "      <td>751356000.0</td>\n",
       "      <td>5900.0</td>\n",
       "      <td>1.954940e+28</td>\n",
       "      <td>3.575320</td>\n",
       "      <td>0.046513</td>\n",
       "      <td>7.040038e+07</td>\n",
       "      <td>251.764117</td>\n",
       "    </tr>\n",
       "    <tr>\n",
       "      <th>4</th>\n",
       "      <td>1070.1700</td>\n",
       "      <td>2.028178e+30</td>\n",
       "      <td>953109000.0</td>\n",
       "      <td>5866.0</td>\n",
       "      <td>5.997680e+25</td>\n",
       "      <td>31.588900</td>\n",
       "      <td>0.196877</td>\n",
       "      <td>1.964499e+07</td>\n",
       "      <td>9.919505</td>\n",
       "    </tr>\n",
       "    <tr>\n",
       "      <th>...</th>\n",
       "      <td>...</td>\n",
       "      <td>...</td>\n",
       "      <td>...</td>\n",
       "      <td>...</td>\n",
       "      <td>...</td>\n",
       "      <td>...</td>\n",
       "      <td>...</td>\n",
       "      <td>...</td>\n",
       "      <td>...</td>\n",
       "    </tr>\n",
       "    <tr>\n",
       "      <th>91387</th>\n",
       "      <td>491.6220</td>\n",
       "      <td>2.050597e+30</td>\n",
       "      <td>730485000.0</td>\n",
       "      <td>5925.1</td>\n",
       "      <td>3.779878e+27</td>\n",
       "      <td>4.847033</td>\n",
       "      <td>0.056630</td>\n",
       "      <td>1.135206e+08</td>\n",
       "      <td>18.721422</td>\n",
       "    </tr>\n",
       "    <tr>\n",
       "      <th>91388</th>\n",
       "      <td>316.2280</td>\n",
       "      <td>2.444501e+30</td>\n",
       "      <td>980937000.0</td>\n",
       "      <td>6287.0</td>\n",
       "      <td>5.845108e+27</td>\n",
       "      <td>8.493018</td>\n",
       "      <td>0.087271</td>\n",
       "      <td>1.322829e+08</td>\n",
       "      <td>21.320410</td>\n",
       "    </tr>\n",
       "    <tr>\n",
       "      <th>91389</th>\n",
       "      <td>1050.6400</td>\n",
       "      <td>1.869105e+30</td>\n",
       "      <td>667872000.0</td>\n",
       "      <td>5888.0</td>\n",
       "      <td>2.922920e+25</td>\n",
       "      <td>5.687945</td>\n",
       "      <td>0.061092</td>\n",
       "      <td>1.286362e+07</td>\n",
       "      <td>11.274586</td>\n",
       "    </tr>\n",
       "    <tr>\n",
       "      <th>91390</th>\n",
       "      <td>90.8693</td>\n",
       "      <td>1.470204e+30</td>\n",
       "      <td>509042994.3</td>\n",
       "      <td>4820.4</td>\n",
       "      <td>4.095183e+25</td>\n",
       "      <td>6.096347</td>\n",
       "      <td>0.059057</td>\n",
       "      <td>1.550217e+07</td>\n",
       "      <td>10.876742</td>\n",
       "    </tr>\n",
       "    <tr>\n",
       "      <th>91391</th>\n",
       "      <td>103.0210</td>\n",
       "      <td>1.075332e+30</td>\n",
       "      <td>366624855.9</td>\n",
       "      <td>3652.0</td>\n",
       "      <td>2.208607e+25</td>\n",
       "      <td>0.935183</td>\n",
       "      <td>0.015248</td>\n",
       "      <td>1.083126e+07</td>\n",
       "      <td>12.016305</td>\n",
       "    </tr>\n",
       "  </tbody>\n",
       "</table>\n",
       "<p>91392 rows × 9 columns</p>\n",
       "</div>"
      ],
      "text/plain": [
       "           star_distance  star_mass_kg  star_radius_m  star_temperature  \\\n",
       "planet_ID                                                                 \n",
       "0               100.0510  1.531871e+30    612216000.0            5053.0   \n",
       "1                28.2938  1.536643e+30    542646000.0            5071.0   \n",
       "2               258.8930  1.888989e+30    688743000.0            5416.0   \n",
       "3              1010.2800  2.087830e+30    751356000.0            5900.0   \n",
       "4              1070.1700  2.028178e+30    953109000.0            5866.0   \n",
       "...                  ...           ...            ...               ...   \n",
       "91387           491.6220  2.050597e+30    730485000.0            5925.1   \n",
       "91388           316.2280  2.444501e+30    980937000.0            6287.0   \n",
       "91389          1050.6400  1.869105e+30    667872000.0            5888.0   \n",
       "91390            90.8693  1.470204e+30    509042994.3            4820.4   \n",
       "91391           103.0210  1.075332e+30    366624855.9            3652.0   \n",
       "\n",
       "           planet_mass_kg  planet_orbital_period  planet_distance  \\\n",
       "planet_ID                                                           \n",
       "0            4.994682e+25               3.646200         0.042501   \n",
       "1            3.040857e+25              16.201656         0.114991   \n",
       "2            9.850620e+25              88.406553         0.381830   \n",
       "3            1.954940e+28               3.575320         0.046513   \n",
       "4            5.997680e+25              31.588900         0.196877   \n",
       "...                   ...                    ...              ...   \n",
       "91387        3.779878e+27               4.847033         0.056630   \n",
       "91388        5.845108e+27               8.493018         0.087271   \n",
       "91389        2.922920e+25               5.687945         0.061092   \n",
       "91390        4.095183e+25               6.096347         0.059057   \n",
       "91391        2.208607e+25               0.935183         0.015248   \n",
       "\n",
       "           planet_radius_m  planet_surface_gravity  \n",
       "planet_ID                                           \n",
       "0             1.751739e+07               10.389141  \n",
       "1             1.309706e+07               11.315104  \n",
       "2             2.628654e+07                9.099284  \n",
       "3             7.040038e+07              251.764117  \n",
       "4             1.964499e+07                9.919505  \n",
       "...                    ...                     ...  \n",
       "91387         1.135206e+08               18.721422  \n",
       "91388         1.322829e+08               21.320410  \n",
       "91389         1.286362e+07               11.274586  \n",
       "91390         1.550217e+07               10.876742  \n",
       "91391         1.083126e+07               12.016305  \n",
       "\n",
       "[91392 rows x 9 columns]"
      ]
     },
     "execution_count": 15,
     "metadata": {},
     "output_type": "execute_result"
    }
   ],
   "source": [
    "auxiliary = pd.read_csv(\"data/train/auxiliary_table.csv\", index_col=\"planet_ID\")\n",
    "auxiliary"
   ]
  },
  {
   "cell_type": "markdown",
   "id": "4b62066f-7b9f-4419-97ba-5e2e7b5028e0",
   "metadata": {},
   "source": [
    "## Forward model parameter table"
   ]
  },
  {
   "cell_type": "code",
   "execution_count": 16,
   "id": "2c4df6fa-5be0-4575-b371-a664d8b3b188",
   "metadata": {},
   "outputs": [
    {
     "data": {
      "text/html": [
       "<div>\n",
       "<style scoped>\n",
       "    .dataframe tbody tr th:only-of-type {\n",
       "        vertical-align: middle;\n",
       "    }\n",
       "\n",
       "    .dataframe tbody tr th {\n",
       "        vertical-align: top;\n",
       "    }\n",
       "\n",
       "    .dataframe thead th {\n",
       "        text-align: right;\n",
       "    }\n",
       "</style>\n",
       "<table border=\"1\" class=\"dataframe\">\n",
       "  <thead>\n",
       "    <tr style=\"text-align: right;\">\n",
       "      <th></th>\n",
       "      <th>planet_temp</th>\n",
       "      <th>log_H2O</th>\n",
       "      <th>log_CO2</th>\n",
       "      <th>log_CH4</th>\n",
       "      <th>log_CO</th>\n",
       "      <th>log_NH3</th>\n",
       "    </tr>\n",
       "    <tr>\n",
       "      <th>planet_ID</th>\n",
       "      <th></th>\n",
       "      <th></th>\n",
       "      <th></th>\n",
       "      <th></th>\n",
       "      <th></th>\n",
       "      <th></th>\n",
       "    </tr>\n",
       "  </thead>\n",
       "  <tbody>\n",
       "    <tr>\n",
       "      <th>0</th>\n",
       "      <td>1108.725067</td>\n",
       "      <td>-6.484809</td>\n",
       "      <td>-7.016512</td>\n",
       "      <td>-3.294729</td>\n",
       "      <td>-3.351913</td>\n",
       "      <td>-6.955828</td>\n",
       "    </tr>\n",
       "    <tr>\n",
       "      <th>1</th>\n",
       "      <td>636.858130</td>\n",
       "      <td>-8.829193</td>\n",
       "      <td>-8.603965</td>\n",
       "      <td>-5.501124</td>\n",
       "      <td>-4.799371</td>\n",
       "      <td>-6.020019</td>\n",
       "    </tr>\n",
       "    <tr>\n",
       "      <th>2</th>\n",
       "      <td>420.527609</td>\n",
       "      <td>-6.626830</td>\n",
       "      <td>-6.420932</td>\n",
       "      <td>-6.755727</td>\n",
       "      <td>-5.318471</td>\n",
       "      <td>-4.695118</td>\n",
       "    </tr>\n",
       "    <tr>\n",
       "      <th>3</th>\n",
       "      <td>1370.906116</td>\n",
       "      <td>-7.639372</td>\n",
       "      <td>-5.877303</td>\n",
       "      <td>-4.476840</td>\n",
       "      <td>-5.200010</td>\n",
       "      <td>-6.240726</td>\n",
       "    </tr>\n",
       "    <tr>\n",
       "      <th>4</th>\n",
       "      <td>746.170076</td>\n",
       "      <td>-4.172605</td>\n",
       "      <td>-6.899335</td>\n",
       "      <td>-6.360434</td>\n",
       "      <td>-4.140252</td>\n",
       "      <td>-8.896858</td>\n",
       "    </tr>\n",
       "    <tr>\n",
       "      <th>...</th>\n",
       "      <td>...</td>\n",
       "      <td>...</td>\n",
       "      <td>...</td>\n",
       "      <td>...</td>\n",
       "      <td>...</td>\n",
       "      <td>...</td>\n",
       "    </tr>\n",
       "    <tr>\n",
       "      <th>91387</th>\n",
       "      <td>1230.274532</td>\n",
       "      <td>-5.610091</td>\n",
       "      <td>-7.173193</td>\n",
       "      <td>-5.096518</td>\n",
       "      <td>-3.397266</td>\n",
       "      <td>-4.400357</td>\n",
       "    </tr>\n",
       "    <tr>\n",
       "      <th>91388</th>\n",
       "      <td>1218.571572</td>\n",
       "      <td>-8.306286</td>\n",
       "      <td>-4.758709</td>\n",
       "      <td>-3.964018</td>\n",
       "      <td>-3.146747</td>\n",
       "      <td>-5.339986</td>\n",
       "    </tr>\n",
       "    <tr>\n",
       "      <th>91389</th>\n",
       "      <td>1125.496097</td>\n",
       "      <td>-5.410777</td>\n",
       "      <td>-8.539973</td>\n",
       "      <td>-8.684864</td>\n",
       "      <td>-5.008298</td>\n",
       "      <td>-8.062786</td>\n",
       "    </tr>\n",
       "    <tr>\n",
       "      <th>91390</th>\n",
       "      <td>818.176365</td>\n",
       "      <td>-3.280500</td>\n",
       "      <td>-5.285857</td>\n",
       "      <td>-3.157887</td>\n",
       "      <td>-4.717893</td>\n",
       "      <td>-4.934644</td>\n",
       "    </tr>\n",
       "    <tr>\n",
       "      <th>91391</th>\n",
       "      <td>1035.281786</td>\n",
       "      <td>-8.708351</td>\n",
       "      <td>-5.705553</td>\n",
       "      <td>-3.452480</td>\n",
       "      <td>-4.870573</td>\n",
       "      <td>-7.801927</td>\n",
       "    </tr>\n",
       "  </tbody>\n",
       "</table>\n",
       "<p>91392 rows × 6 columns</p>\n",
       "</div>"
      ],
      "text/plain": [
       "           planet_temp   log_H2O   log_CO2   log_CH4    log_CO   log_NH3\n",
       "planet_ID                                                               \n",
       "0          1108.725067 -6.484809 -7.016512 -3.294729 -3.351913 -6.955828\n",
       "1           636.858130 -8.829193 -8.603965 -5.501124 -4.799371 -6.020019\n",
       "2           420.527609 -6.626830 -6.420932 -6.755727 -5.318471 -4.695118\n",
       "3          1370.906116 -7.639372 -5.877303 -4.476840 -5.200010 -6.240726\n",
       "4           746.170076 -4.172605 -6.899335 -6.360434 -4.140252 -8.896858\n",
       "...                ...       ...       ...       ...       ...       ...\n",
       "91387      1230.274532 -5.610091 -7.173193 -5.096518 -3.397266 -4.400357\n",
       "91388      1218.571572 -8.306286 -4.758709 -3.964018 -3.146747 -5.339986\n",
       "91389      1125.496097 -5.410777 -8.539973 -8.684864 -5.008298 -8.062786\n",
       "91390       818.176365 -3.280500 -5.285857 -3.157887 -4.717893 -4.934644\n",
       "91391      1035.281786 -8.708351 -5.705553 -3.452480 -4.870573 -7.801927\n",
       "\n",
       "[91392 rows x 6 columns]"
      ]
     },
     "execution_count": 16,
     "metadata": {},
     "output_type": "execute_result"
    }
   ],
   "source": [
    "fm_parameter = pd.read_csv(\"data/train/ground_truth/fm_parameter_table.csv\", index_col=\"planet_ID\")\n",
    "fm_parameter"
   ]
  },
  {
   "cell_type": "code",
   "execution_count": 17,
   "id": "d2065760-ad41-4037-8dbe-1b8e77185428",
   "metadata": {},
   "outputs": [
    {
     "data": {
      "text/plain": [
       "Text(0.5, 0, 'Planet temperature')"
      ]
     },
     "execution_count": 17,
     "metadata": {},
     "output_type": "execute_result"
    },
    {
     "data": {
      "image/png": "[encoded data removed]",
      "text/plain": [
       "<Figure size 432x288 with 1 Axes>"
      ]
     },
     "metadata": {
      "needs_background": "light"
     },
     "output_type": "display_data"
    }
   ],
   "source": [
    "ax = fm_parameter[\"planet_temp\"].plot.hist()\n",
    "ax.set_xlabel(\"Planet temperature\")"
   ]
  },
  {
   "cell_type": "code",
   "execution_count": 18,
   "id": "465f7b8d-a8b6-4943-b25f-d42dacb72dfe",
   "metadata": {},
   "outputs": [
    {
     "data": {
      "text/plain": [
       "Text(0.5, 0, 'log H$_2$O')"
      ]
     },
     "execution_count": 18,
     "metadata": {},
     "output_type": "execute_result"
    },
    {
     "data": {
      "image/png": "[encoded data removed]",
      "text/plain": [
       "<Figure size 432x288 with 1 Axes>"
      ]
     },
     "metadata": {
      "needs_background": "light"
     },
     "output_type": "display_data"
    }
   ],
   "source": [
    "ax = fm_parameter[\"log_H2O\"].plot.hist()\n",
    "ax.set_xlabel(\"log H$_2$O\")"
   ]
  },
  {
   "cell_type": "code",
   "execution_count": 19,
   "id": "378a55e9-1cab-4bb7-a5f6-aca5ffb7a51f",
   "metadata": {},
   "outputs": [
    {
     "data": {
      "text/plain": [
       "Text(0.5, 0, 'log CO$_2$')"
      ]
     },
     "execution_count": 19,
     "metadata": {},
     "output_type": "execute_result"
    },
    {
     "data": {
      "image/png": "[encoded data removed]",
      "text/plain": [
       "<Figure size 432x288 with 1 Axes>"
      ]
     },
     "metadata": {
      "needs_background": "light"
     },
     "output_type": "display_data"
    }
   ],
   "source": [
    "ax = fm_parameter[\"log_CO2\"].plot.hist()\n",
    "ax.set_xlabel(\"log CO$_2$\")"
   ]
  },
  {
   "cell_type": "code",
   "execution_count": 20,
   "id": "28f2cf14-8334-47f3-8a39-800322b79f4f",
   "metadata": {},
   "outputs": [
    {
     "data": {
      "text/plain": [
       "Text(0.5, 0, 'log CH$_4$')"
      ]
     },
     "execution_count": 20,
     "metadata": {},
     "output_type": "execute_result"
    },
    {
     "data": {
      "image/png": "[encoded data removed]",
      "text/plain": [
       "<Figure size 432x288 with 1 Axes>"
      ]
     },
     "metadata": {
      "needs_background": "light"
     },
     "output_type": "display_data"
    }
   ],
   "source": [
    "ax = fm_parameter[\"log_CH4\"].plot.hist()\n",
    "ax.set_xlabel(\"log CH$_4$\")"
   ]
  },
  {
   "cell_type": "code",
   "execution_count": 21,
   "id": "ce384e94-4bd9-4ed7-b8a1-eb248549a534",
   "metadata": {},
   "outputs": [
    {
     "data": {
      "text/plain": [
       "Text(0.5, 0, 'log CO')"
      ]
     },
     "execution_count": 21,
     "metadata": {},
     "output_type": "execute_result"
    },
    {
     "data": {
      "image/png": "[encoded data removed]",
      "text/plain": [
       "<Figure size 432x288 with 1 Axes>"
      ]
     },
     "metadata": {
      "needs_background": "light"
     },
     "output_type": "display_data"
    }
   ],
   "source": [
    "ax = fm_parameter[\"log_CO\"].plot.hist()\n",
    "ax.set_xlabel(\"log CO\")"
   ]
  },
  {
   "cell_type": "code",
   "execution_count": 22,
   "id": "b4163c3f-295c-4c46-b3bc-1448fef8eaab",
   "metadata": {},
   "outputs": [
    {
     "data": {
      "text/plain": [
       "Text(0.5, 0, 'log NH$_3$')"
      ]
     },
     "execution_count": 22,
     "metadata": {},
     "output_type": "execute_result"
    },
    {
     "data": {
      "image/png": "[encoded data removed]",
      "text/plain": [
       "<Figure size 432x288 with 1 Axes>"
      ]
     },
     "metadata": {
      "needs_background": "light"
     },
     "output_type": "display_data"
    }
   ],
   "source": [
    "ax = fm_parameter[\"log_NH3\"].plot.hist()\n",
    "ax.set_xlabel(\"log NH$_3$\")"
   ]
  },
  {
   "cell_type": "markdown",
   "id": "cc775059-3a34-40fb-b402-9985233d59f5",
   "metadata": {},
   "source": [
    "## Quartiles table"
   ]
  },
  {
   "cell_type": "code",
   "execution_count": 23,
   "id": "7bab4eca-39e5-43f4-a753-84a36d970adc",
   "metadata": {},
   "outputs": [
    {
     "data": {
      "text/html": [
       "<div>\n",
       "<style scoped>\n",
       "    .dataframe tbody tr th:only-of-type {\n",
       "        vertical-align: middle;\n",
       "    }\n",
       "\n",
       "    .dataframe tbody tr th {\n",
       "        vertical-align: top;\n",
       "    }\n",
       "\n",
       "    .dataframe thead th {\n",
       "        text-align: right;\n",
       "    }\n",
       "</style>\n",
       "<table border=\"1\" class=\"dataframe\">\n",
       "  <thead>\n",
       "    <tr style=\"text-align: right;\">\n",
       "      <th></th>\n",
       "      <th>T_q1</th>\n",
       "      <th>T_q2</th>\n",
       "      <th>T_q3</th>\n",
       "      <th>log_H2O_q1</th>\n",
       "      <th>log_H2O_q2</th>\n",
       "      <th>log_H2O_q3</th>\n",
       "      <th>log_CO2_q1</th>\n",
       "      <th>log_CO2_q2</th>\n",
       "      <th>log_CO2_q3</th>\n",
       "      <th>log_CH4_q1</th>\n",
       "      <th>log_CH4_q2</th>\n",
       "      <th>log_CH4_q3</th>\n",
       "      <th>log_CO_q1</th>\n",
       "      <th>log_CO_q2</th>\n",
       "      <th>log_CO_q3</th>\n",
       "      <th>log_NH3_q1</th>\n",
       "      <th>log_NH3_q2</th>\n",
       "      <th>log_NH3_q3</th>\n",
       "    </tr>\n",
       "    <tr>\n",
       "      <th>planet_ID</th>\n",
       "      <th></th>\n",
       "      <th></th>\n",
       "      <th></th>\n",
       "      <th></th>\n",
       "      <th></th>\n",
       "      <th></th>\n",
       "      <th></th>\n",
       "      <th></th>\n",
       "      <th></th>\n",
       "      <th></th>\n",
       "      <th></th>\n",
       "      <th></th>\n",
       "      <th></th>\n",
       "      <th></th>\n",
       "      <th></th>\n",
       "      <th></th>\n",
       "      <th></th>\n",
       "      <th></th>\n",
       "    </tr>\n",
       "  </thead>\n",
       "  <tbody>\n",
       "    <tr>\n",
       "      <th>0</th>\n",
       "      <td>1096.754060</td>\n",
       "      <td>1109.490687</td>\n",
       "      <td>1122.716570</td>\n",
       "      <td>-10.884421</td>\n",
       "      <td>-8.867972</td>\n",
       "      <td>-6.684767</td>\n",
       "      <td>-10.153066</td>\n",
       "      <td>-7.434079</td>\n",
       "      <td>-6.823955</td>\n",
       "      <td>-3.346453</td>\n",
       "      <td>-3.291427</td>\n",
       "      <td>-3.229520</td>\n",
       "      <td>-4.082412</td>\n",
       "      <td>-3.399877</td>\n",
       "      <td>-3.042125</td>\n",
       "      <td>-11.019125</td>\n",
       "      <td>-8.890987</td>\n",
       "      <td>-6.977170</td>\n",
       "    </tr>\n",
       "    <tr>\n",
       "      <th>1</th>\n",
       "      <td>616.072976</td>\n",
       "      <td>636.977475</td>\n",
       "      <td>657.582228</td>\n",
       "      <td>-11.095211</td>\n",
       "      <td>-9.323549</td>\n",
       "      <td>-7.452824</td>\n",
       "      <td>-10.785395</td>\n",
       "      <td>-9.247521</td>\n",
       "      <td>-8.291703</td>\n",
       "      <td>-5.672253</td>\n",
       "      <td>-5.513984</td>\n",
       "      <td>-5.337995</td>\n",
       "      <td>-5.203368</td>\n",
       "      <td>-4.816855</td>\n",
       "      <td>-4.414735</td>\n",
       "      <td>-6.255204</td>\n",
       "      <td>-6.029390</td>\n",
       "      <td>-5.839559</td>\n",
       "    </tr>\n",
       "    <tr>\n",
       "      <th>2</th>\n",
       "      <td>411.059375</td>\n",
       "      <td>420.392211</td>\n",
       "      <td>429.156294</td>\n",
       "      <td>-10.450308</td>\n",
       "      <td>-7.773855</td>\n",
       "      <td>-6.522569</td>\n",
       "      <td>-6.884896</td>\n",
       "      <td>-6.449624</td>\n",
       "      <td>-6.060706</td>\n",
       "      <td>-8.724523</td>\n",
       "      <td>-7.086556</td>\n",
       "      <td>-6.492432</td>\n",
       "      <td>-5.972764</td>\n",
       "      <td>-5.390598</td>\n",
       "      <td>-4.929774</td>\n",
       "      <td>-4.773786</td>\n",
       "      <td>-4.668049</td>\n",
       "      <td>-4.556866</td>\n",
       "    </tr>\n",
       "    <tr>\n",
       "      <th>3</th>\n",
       "      <td>1357.964612</td>\n",
       "      <td>1382.813499</td>\n",
       "      <td>1409.892455</td>\n",
       "      <td>-10.882759</td>\n",
       "      <td>-8.827417</td>\n",
       "      <td>-6.804879</td>\n",
       "      <td>-6.073258</td>\n",
       "      <td>-5.891995</td>\n",
       "      <td>-5.733862</td>\n",
       "      <td>-4.529318</td>\n",
       "      <td>-4.478272</td>\n",
       "      <td>-4.430260</td>\n",
       "      <td>-10.659858</td>\n",
       "      <td>-7.749673</td>\n",
       "      <td>-5.096800</td>\n",
       "      <td>-10.860119</td>\n",
       "      <td>-7.922047</td>\n",
       "      <td>-6.382086</td>\n",
       "    </tr>\n",
       "    <tr>\n",
       "      <th>4</th>\n",
       "      <td>737.588375</td>\n",
       "      <td>746.177998</td>\n",
       "      <td>756.234493</td>\n",
       "      <td>-4.254871</td>\n",
       "      <td>-4.172825</td>\n",
       "      <td>-4.098340</td>\n",
       "      <td>-7.180686</td>\n",
       "      <td>-6.927282</td>\n",
       "      <td>-6.680215</td>\n",
       "      <td>-6.618038</td>\n",
       "      <td>-6.397635</td>\n",
       "      <td>-6.210865</td>\n",
       "      <td>-4.543197</td>\n",
       "      <td>-4.166813</td>\n",
       "      <td>-3.835200</td>\n",
       "      <td>-11.185112</td>\n",
       "      <td>-9.489310</td>\n",
       "      <td>-7.766874</td>\n",
       "    </tr>\n",
       "    <tr>\n",
       "      <th>...</th>\n",
       "      <td>...</td>\n",
       "      <td>...</td>\n",
       "      <td>...</td>\n",
       "      <td>...</td>\n",
       "      <td>...</td>\n",
       "      <td>...</td>\n",
       "      <td>...</td>\n",
       "      <td>...</td>\n",
       "      <td>...</td>\n",
       "      <td>...</td>\n",
       "      <td>...</td>\n",
       "      <td>...</td>\n",
       "      <td>...</td>\n",
       "      <td>...</td>\n",
       "      <td>...</td>\n",
       "      <td>...</td>\n",
       "      <td>...</td>\n",
       "      <td>...</td>\n",
       "    </tr>\n",
       "    <tr>\n",
       "      <th>91387</th>\n",
       "      <td>NaN</td>\n",
       "      <td>NaN</td>\n",
       "      <td>NaN</td>\n",
       "      <td>NaN</td>\n",
       "      <td>NaN</td>\n",
       "      <td>NaN</td>\n",
       "      <td>NaN</td>\n",
       "      <td>NaN</td>\n",
       "      <td>NaN</td>\n",
       "      <td>NaN</td>\n",
       "      <td>NaN</td>\n",
       "      <td>NaN</td>\n",
       "      <td>NaN</td>\n",
       "      <td>NaN</td>\n",
       "      <td>NaN</td>\n",
       "      <td>NaN</td>\n",
       "      <td>NaN</td>\n",
       "      <td>NaN</td>\n",
       "    </tr>\n",
       "    <tr>\n",
       "      <th>91388</th>\n",
       "      <td>NaN</td>\n",
       "      <td>NaN</td>\n",
       "      <td>NaN</td>\n",
       "      <td>NaN</td>\n",
       "      <td>NaN</td>\n",
       "      <td>NaN</td>\n",
       "      <td>NaN</td>\n",
       "      <td>NaN</td>\n",
       "      <td>NaN</td>\n",
       "      <td>NaN</td>\n",
       "      <td>NaN</td>\n",
       "      <td>NaN</td>\n",
       "      <td>NaN</td>\n",
       "      <td>NaN</td>\n",
       "      <td>NaN</td>\n",
       "      <td>NaN</td>\n",
       "      <td>NaN</td>\n",
       "      <td>NaN</td>\n",
       "    </tr>\n",
       "    <tr>\n",
       "      <th>91389</th>\n",
       "      <td>NaN</td>\n",
       "      <td>NaN</td>\n",
       "      <td>NaN</td>\n",
       "      <td>NaN</td>\n",
       "      <td>NaN</td>\n",
       "      <td>NaN</td>\n",
       "      <td>NaN</td>\n",
       "      <td>NaN</td>\n",
       "      <td>NaN</td>\n",
       "      <td>NaN</td>\n",
       "      <td>NaN</td>\n",
       "      <td>NaN</td>\n",
       "      <td>NaN</td>\n",
       "      <td>NaN</td>\n",
       "      <td>NaN</td>\n",
       "      <td>NaN</td>\n",
       "      <td>NaN</td>\n",
       "      <td>NaN</td>\n",
       "    </tr>\n",
       "    <tr>\n",
       "      <th>91390</th>\n",
       "      <td>NaN</td>\n",
       "      <td>NaN</td>\n",
       "      <td>NaN</td>\n",
       "      <td>NaN</td>\n",
       "      <td>NaN</td>\n",
       "      <td>NaN</td>\n",
       "      <td>NaN</td>\n",
       "      <td>NaN</td>\n",
       "      <td>NaN</td>\n",
       "      <td>NaN</td>\n",
       "      <td>NaN</td>\n",
       "      <td>NaN</td>\n",
       "      <td>NaN</td>\n",
       "      <td>NaN</td>\n",
       "      <td>NaN</td>\n",
       "      <td>NaN</td>\n",
       "      <td>NaN</td>\n",
       "      <td>NaN</td>\n",
       "    </tr>\n",
       "    <tr>\n",
       "      <th>91391</th>\n",
       "      <td>NaN</td>\n",
       "      <td>NaN</td>\n",
       "      <td>NaN</td>\n",
       "      <td>NaN</td>\n",
       "      <td>NaN</td>\n",
       "      <td>NaN</td>\n",
       "      <td>NaN</td>\n",
       "      <td>NaN</td>\n",
       "      <td>NaN</td>\n",
       "      <td>NaN</td>\n",
       "      <td>NaN</td>\n",
       "      <td>NaN</td>\n",
       "      <td>NaN</td>\n",
       "      <td>NaN</td>\n",
       "      <td>NaN</td>\n",
       "      <td>NaN</td>\n",
       "      <td>NaN</td>\n",
       "      <td>NaN</td>\n",
       "    </tr>\n",
       "  </tbody>\n",
       "</table>\n",
       "<p>91392 rows × 18 columns</p>\n",
       "</div>"
      ],
      "text/plain": [
       "                  T_q1         T_q2         T_q3  log_H2O_q1  log_H2O_q2  \\\n",
       "planet_ID                                                                  \n",
       "0          1096.754060  1109.490687  1122.716570  -10.884421   -8.867972   \n",
       "1           616.072976   636.977475   657.582228  -11.095211   -9.323549   \n",
       "2           411.059375   420.392211   429.156294  -10.450308   -7.773855   \n",
       "3          1357.964612  1382.813499  1409.892455  -10.882759   -8.827417   \n",
       "4           737.588375   746.177998   756.234493   -4.254871   -4.172825   \n",
       "...                ...          ...          ...         ...         ...   \n",
       "91387              NaN          NaN          NaN         NaN         NaN   \n",
       "91388              NaN          NaN          NaN         NaN         NaN   \n",
       "91389              NaN          NaN          NaN         NaN         NaN   \n",
       "91390              NaN          NaN          NaN         NaN         NaN   \n",
       "91391              NaN          NaN          NaN         NaN         NaN   \n",
       "\n",
       "           log_H2O_q3  log_CO2_q1  log_CO2_q2  log_CO2_q3  log_CH4_q1  \\\n",
       "planet_ID                                                               \n",
       "0           -6.684767  -10.153066   -7.434079   -6.823955   -3.346453   \n",
       "1           -7.452824  -10.785395   -9.247521   -8.291703   -5.672253   \n",
       "2           -6.522569   -6.884896   -6.449624   -6.060706   -8.724523   \n",
       "3           -6.804879   -6.073258   -5.891995   -5.733862   -4.529318   \n",
       "4           -4.098340   -7.180686   -6.927282   -6.680215   -6.618038   \n",
       "...               ...         ...         ...         ...         ...   \n",
       "91387             NaN         NaN         NaN         NaN         NaN   \n",
       "91388             NaN         NaN         NaN         NaN         NaN   \n",
       "91389             NaN         NaN         NaN         NaN         NaN   \n",
       "91390             NaN         NaN         NaN         NaN         NaN   \n",
       "91391             NaN         NaN         NaN         NaN         NaN   \n",
       "\n",
       "           log_CH4_q2  log_CH4_q3  log_CO_q1  log_CO_q2  log_CO_q3  \\\n",
       "planet_ID                                                            \n",
       "0           -3.291427   -3.229520  -4.082412  -3.399877  -3.042125   \n",
       "1           -5.513984   -5.337995  -5.203368  -4.816855  -4.414735   \n",
       "2           -7.086556   -6.492432  -5.972764  -5.390598  -4.929774   \n",
       "3           -4.478272   -4.430260 -10.659858  -7.749673  -5.096800   \n",
       "4           -6.397635   -6.210865  -4.543197  -4.166813  -3.835200   \n",
       "...               ...         ...        ...        ...        ...   \n",
       "91387             NaN         NaN        NaN        NaN        NaN   \n",
       "91388             NaN         NaN        NaN        NaN        NaN   \n",
       "91389             NaN         NaN        NaN        NaN        NaN   \n",
       "91390             NaN         NaN        NaN        NaN        NaN   \n",
       "91391             NaN         NaN        NaN        NaN        NaN   \n",
       "\n",
       "           log_NH3_q1  log_NH3_q2  log_NH3_q3  \n",
       "planet_ID                                      \n",
       "0          -11.019125   -8.890987   -6.977170  \n",
       "1           -6.255204   -6.029390   -5.839559  \n",
       "2           -4.773786   -4.668049   -4.556866  \n",
       "3          -10.860119   -7.922047   -6.382086  \n",
       "4          -11.185112   -9.489310   -7.766874  \n",
       "...               ...         ...         ...  \n",
       "91387             NaN         NaN         NaN  \n",
       "91388             NaN         NaN         NaN  \n",
       "91389             NaN         NaN         NaN  \n",
       "91390             NaN         NaN         NaN  \n",
       "91391             NaN         NaN         NaN  \n",
       "\n",
       "[91392 rows x 18 columns]"
      ]
     },
     "execution_count": 23,
     "metadata": {},
     "output_type": "execute_result"
    }
   ],
   "source": [
    "quartiles = pd.read_csv(\"data/train/ground_truth/quartiles_table.csv\", index_col=\"planet_ID\")\n",
    "quartiles"
   ]
  },
  {
   "cell_type": "markdown",
   "id": "47ee4af6-096f-494d-b47b-00402152fd8a",
   "metadata": {},
   "source": [
    "## Traces"
   ]
  },
  {
   "cell_type": "code",
   "execution_count": 24,
   "id": "48ef6c73-f7be-4953-b55b-51d67d571c1a",
   "metadata": {},
   "outputs": [
    {
     "data": {
      "text/plain": [
       "<KeysViewHDF5 ['tracedata', 'weights']>"
      ]
     },
     "execution_count": 24,
     "metadata": {},
     "output_type": "execute_result"
    }
   ],
   "source": [
    "tracefile = h5py.File(\"data/train/ground_truth/traces.hdf5\", \"r\")\n",
    "tracegrp = tracefile[\"Planet_\" + str(i)]\n",
    "tracegrp.keys()"
   ]
  },
  {
   "cell_type": "code",
   "execution_count": 25,
   "id": "0ed262f2-2a23-426f-8f95-5d1da01e9f9b",
   "metadata": {},
   "outputs": [
    {
     "data": {
      "text/plain": [
       "<HDF5 dataset \"tracedata\": shape (3228, 6), type \"<f8\">"
      ]
     },
     "execution_count": 25,
     "metadata": {},
     "output_type": "execute_result"
    }
   ],
   "source": [
    "tracegrp[\"tracedata\"]"
   ]
  },
  {
   "cell_type": "code",
   "execution_count": 26,
   "id": "654a5edd-02e6-4447-b010-aa478740b2a5",
   "metadata": {},
   "outputs": [
    {
     "data": {
      "text/plain": [
       "(7239,\n",
       " array(['T', 'log_H2O', 'log_CO2', 'log_CH4', 'log_CO', 'log_NH3'],\n",
       "       dtype=object))"
      ]
     },
     "execution_count": 26,
     "metadata": {},
     "output_type": "execute_result"
    }
   ],
   "source": [
    "tracegrp.attrs[\"ID\"], tracegrp.attrs[\"target_order\"]"
   ]
  },
  {
   "cell_type": "code",
   "execution_count": 27,
   "id": "be5b3de4-8ea9-41f9-bc13-c5e46c0d61bd",
   "metadata": {},
   "outputs": [
    {
     "data": {
      "text/plain": [
       "((3228, 6), dtype('float64'))"
      ]
     },
     "execution_count": 27,
     "metadata": {},
     "output_type": "execute_result"
    }
   ],
   "source": [
    "tracedata = tracegrp[\"tracedata\"][:]\n",
    "tracedata.shape, tracedata.dtype"
   ]
  },
  {
   "cell_type": "code",
   "execution_count": 28,
   "id": "1c6a0496-9d0b-4418-8980-3fcedaede1af",
   "metadata": {},
   "outputs": [
    {
     "data": {
      "text/plain": [
       "((3228,), dtype('float64'))"
      ]
     },
     "execution_count": 28,
     "metadata": {},
     "output_type": "execute_result"
    }
   ],
   "source": [
    "weights = tracegrp[\"weights\"][:]\n",
    "weights.shape, weights.dtype"
   ]
  },
  {
   "cell_type": "code",
   "execution_count": 29,
   "id": "6f7a95cd-3201-430a-9e8b-fee282d2c347",
   "metadata": {},
   "outputs": [
    {
     "data": {
      "text/plain": [
       "(2871.174310510247,\n",
       " T_q1    2810.547455\n",
       " T_q2    2877.639225\n",
       " T_q3    2937.654249\n",
       " Name: 7239, dtype: float64)"
      ]
     },
     "execution_count": 29,
     "metadata": {},
     "output_type": "execute_result"
    }
   ],
   "source": [
    "fm_parameter.loc[i, \"planet_temp\"], quartiles.loc[i, [\"T_q1\", \"T_q2\", \"T_q3\"]]"
   ]
  },
  {
   "cell_type": "code",
   "execution_count": 30,
   "id": "6bcb1ff6-dfdc-48bb-ae96-fa25f43efef0",
   "metadata": {},
   "outputs": [
    {
     "data": {
      "text/plain": [
       "(1.0000000000000002, 2876.545616808952, 4152.964107641265, 64.44349546417594)"
      ]
     },
     "execution_count": 30,
     "metadata": {},
     "output_type": "execute_result"
    }
   ],
   "source": [
    "mean = (tracedata[:, 0] @ weights)\n",
    "var = (weights @ ((tracedata[:, 0] - mean) ** 2))\n",
    "std = np.sqrt(var)\n",
    "weights.sum(), mean, var, std"
   ]
  },
  {
   "cell_type": "code",
   "execution_count": 31,
   "id": "d819e66e-b61e-477c-9092-8f974a835288",
   "metadata": {},
   "outputs": [
    {
     "data": {
      "text/plain": [
       "array([8.27866260e+06, 2.34873182e+01, 7.14976370e+01, 2.06524881e+01,\n",
       "       5.17022533e+01, 2.13497933e+01])"
      ]
     },
     "execution_count": 31,
     "metadata": {},
     "output_type": "execute_result"
    }
   ],
   "source": [
    "np.square(tracedata.T - weights) @ weights"
   ]
  },
  {
   "cell_type": "code",
   "execution_count": 32,
   "id": "52987e38-44c8-495c-b5f2-ed014205e482",
   "metadata": {},
   "outputs": [
    {
     "data": {
      "text/plain": [
       "[<matplotlib.lines.Line2D at 0x7f3d578de550>]"
      ]
     },
     "execution_count": 32,
     "metadata": {},
     "output_type": "execute_result"
    },
    {
     "data": {
      "image/png": "[encoded data removed]",
      "text/plain": [
       "<Figure size 432x288 with 1 Axes>"
      ]
     },
     "metadata": {
      "needs_background": "light"
     },
     "output_type": "display_data"
    }
   ],
   "source": [
    "fig, ax = plt.subplots()\n",
    "ax.hist(tracedata[:, 0], density=True, weights=weights)\n",
    "ax.set_xlabel(\"T\")\n",
    "x = np.linspace(np.min(tracedata[:, 0]), np.max(tracedata[:, 0]))\n",
    "y = norm.pdf(x, loc=mean, scale=std)\n",
    "ax.plot(x, y)"
   ]
  },
  {
   "cell_type": "code",
   "execution_count": 33,
   "id": "01ea3414-2ea1-410e-bb3f-4c48e801956f",
   "metadata": {},
   "outputs": [
    {
     "data": {
      "text/plain": [
       "Text(0.5, 0, 'log_H2O')"
      ]
     },
     "execution_count": 33,
     "metadata": {},
     "output_type": "execute_result"
    },
    {
     "data": {
      "image/png": "[encoded data removed]",
      "text/plain": [
       "<Figure size 432x288 with 1 Axes>"
      ]
     },
     "metadata": {
      "needs_background": "light"
     },
     "output_type": "display_data"
    }
   ],
   "source": [
    "fig, ax = plt.subplots()\n",
    "ax.hist(tracedata[:, 1], density=True, weights=weights)\n",
    "ax.set_xlabel(\"log_H2O\")"
   ]
  },
  {
   "cell_type": "code",
   "execution_count": 34,
   "id": "17687000-d8f7-4fcf-a10f-8ef257f3131e",
   "metadata": {},
   "outputs": [
    {
     "data": {
      "text/plain": [
       "(-4.845404355476619,\n",
       " log_H2O_q1   -4.937137\n",
       " log_H2O_q2   -4.846043\n",
       " log_H2O_q3   -4.749287\n",
       " Name: 7239, dtype: float64)"
      ]
     },
     "execution_count": 34,
     "metadata": {},
     "output_type": "execute_result"
    }
   ],
   "source": [
    "fm_parameter.loc[i, \"log_H2O\"], quartiles.loc[i, [\"log_H2O_q1\", \"log_H2O_q2\", \"log_H2O_q3\"]]"
   ]
  },
  {
   "cell_type": "code",
   "execution_count": 35,
   "id": "d142963f-2c5e-458c-98c1-11bc6806fbd1",
   "metadata": {},
   "outputs": [
    {
     "data": {
      "text/plain": [
       "Text(0.5, 0, 'log_CO2')"
      ]
     },
     "execution_count": 35,
     "metadata": {},
     "output_type": "execute_result"
    },
    {
     "data": {
      "image/png": "[encoded data removed]",
      "text/plain": [
       "<Figure size 432x288 with 1 Axes>"
      ]
     },
     "metadata": {
      "needs_background": "light"
     },
     "output_type": "display_data"
    }
   ],
   "source": [
    "fig, ax = plt.subplots()\n",
    "ax.hist(tracedata[:, 2], density=True, weights=weights)\n",
    "ax.set_xlabel(\"log_CO2\")"
   ]
  },
  {
   "cell_type": "code",
   "execution_count": 36,
   "id": "f4faf40a-1173-4a44-b9a1-1ad839a311a1",
   "metadata": {},
   "outputs": [
    {
     "data": {
      "text/plain": [
       "(-7.362095272404814,\n",
       " log_CO2_q1   -10.372620\n",
       " log_CO2_q2    -7.524799\n",
       " log_CO2_q3    -7.111216\n",
       " Name: 7239, dtype: float64)"
      ]
     },
     "execution_count": 36,
     "metadata": {},
     "output_type": "execute_result"
    }
   ],
   "source": [
    "fm_parameter.loc[i, \"log_CO2\"], quartiles.loc[i, [\"log_CO2_q1\", \"log_CO2_q2\", \"log_CO2_q3\"]]"
   ]
  },
  {
   "cell_type": "code",
   "execution_count": 37,
   "id": "20d00707-67b0-4b1a-b2b2-01dd22e2eb0c",
   "metadata": {},
   "outputs": [
    {
     "data": {
      "text/plain": [
       "(1.0000000000000002,\n",
       " -4.542597909837253,\n",
       " 0.009317995720391254,\n",
       " 0.09652976598123117)"
      ]
     },
     "execution_count": 37,
     "metadata": {},
     "output_type": "execute_result"
    }
   ],
   "source": [
    "mean = (tracedata[:, 3] @ weights)\n",
    "var = (weights @ ((tracedata[:, 3] - mean) ** 2))\n",
    "std = np.sqrt(var)\n",
    "weights.sum(), mean, var, std"
   ]
  },
  {
   "cell_type": "code",
   "execution_count": 38,
   "id": "0319241c-3312-46fd-a61c-1f0b47eeae31",
   "metadata": {},
   "outputs": [
    {
     "data": {
      "text/plain": [
       "[<matplotlib.lines.Line2D at 0x7f3d577c9eb0>]"
      ]
     },
     "execution_count": 38,
     "metadata": {},
     "output_type": "execute_result"
    },
    {
     "data": {
      "image/png": "[encoded data removed]",
      "text/plain": [
       "<Figure size 432x288 with 1 Axes>"
      ]
     },
     "metadata": {
      "needs_background": "light"
     },
     "output_type": "display_data"
    }
   ],
   "source": [
    "fig, ax = plt.subplots()\n",
    "ax.hist(tracedata[:, 3], density=True, weights=weights)\n",
    "ax.set_xlabel(\"log_CH4\")\n",
    "x = np.linspace(-12, -2)\n",
    "y = norm.pdf(x, loc=mean, scale=std)\n",
    "ax.plot(x, y)"
   ]
  },
  {
   "cell_type": "code",
   "execution_count": 39,
   "id": "073cd49a-339a-4a7b-bd7b-4a6e8a0d8a6b",
   "metadata": {},
   "outputs": [
    {
     "data": {
      "text/plain": [
       "(-4.533225810223813,\n",
       " log_CH4_q1   -4.637558\n",
       " log_CH4_q2   -4.541525\n",
       " log_CH4_q3   -4.449061\n",
       " Name: 7239, dtype: float64)"
      ]
     },
     "execution_count": 39,
     "metadata": {},
     "output_type": "execute_result"
    }
   ],
   "source": [
    "fm_parameter.loc[i, \"log_CH4\"], quartiles.loc[i, [\"log_CH4_q1\", \"log_CH4_q2\", \"log_CH4_q3\"]]"
   ]
  },
  {
   "cell_type": "code",
   "execution_count": 40,
   "id": "be3e11d3-860d-4a3d-9b77-23e6aa1c7f66",
   "metadata": {},
   "outputs": [
    {
     "data": {
      "text/plain": [
       "Text(0.5, 0, 'log_CO')"
      ]
     },
     "execution_count": 40,
     "metadata": {},
     "output_type": "execute_result"
    },
    {
     "data": {
      "image/png": "[encoded data removed]",
      "text/plain": [
       "<Figure size 432x288 with 1 Axes>"
      ]
     },
     "metadata": {
      "needs_background": "light"
     },
     "output_type": "display_data"
    }
   ],
   "source": [
    "fig, ax = plt.subplots()\n",
    "ax.hist(tracedata[:, 4], density=True, weights=weights)\n",
    "ax.set_xlabel(\"log_CO\")"
   ]
  },
  {
   "cell_type": "code",
   "execution_count": 41,
   "id": "d2f3ff27-b89b-4bfd-ac2c-44d12972bfa4",
   "metadata": {},
   "outputs": [
    {
     "data": {
      "text/plain": [
       "(-5.512918631224741,\n",
       " log_CO_q1   -9.738588\n",
       " log_CO_q2   -5.892750\n",
       " log_CO_q3   -4.856226\n",
       " Name: 7239, dtype: float64)"
      ]
     },
     "execution_count": 41,
     "metadata": {},
     "output_type": "execute_result"
    }
   ],
   "source": [
    "fm_parameter.loc[i, \"log_CO\"], quartiles.loc[i, [\"log_CO_q1\", \"log_CO_q2\", \"log_CO_q3\"]]"
   ]
  },
  {
   "cell_type": "code",
   "execution_count": 42,
   "id": "bf42faae-8b6e-4fa0-bee2-4f9c379978c4",
   "metadata": {},
   "outputs": [
    {
     "data": {
      "text/plain": [
       "Text(0.5, 0, 'log_NH3')"
      ]
     },
     "execution_count": 42,
     "metadata": {},
     "output_type": "execute_result"
    },
    {
     "data": {
      "image/png": "[encoded data removed]",
      "text/plain": [
       "<Figure size 432x288 with 1 Axes>"
      ]
     },
     "metadata": {
      "needs_background": "light"
     },
     "output_type": "display_data"
    }
   ],
   "source": [
    "fig, ax = plt.subplots()\n",
    "ax.hist(tracedata[:, 5], density=True, weights=weights)\n",
    "ax.set_xlabel(\"log_NH3\")"
   ]
  },
  {
   "cell_type": "code",
   "execution_count": 43,
   "id": "b09232ec-f9d3-4c81-a74b-7305d3ca7567",
   "metadata": {},
   "outputs": [
    {
     "data": {
      "text/plain": [
       "(-4.610009381073695,\n",
       " log_NH3_q1   -4.711303\n",
       " log_NH3_q2   -4.615516\n",
       " log_NH3_q3   -4.528653\n",
       " Name: 7239, dtype: float64)"
      ]
     },
     "execution_count": 43,
     "metadata": {},
     "output_type": "execute_result"
    }
   ],
   "source": [
    "fm_parameter.loc[i, \"log_NH3\"], quartiles.loc[i, [\"log_NH3_q1\", \"log_NH3_q2\", \"log_NH3_q3\"]]"
   ]
  }
 ],
 "metadata": {
  "kernelspec": {
   "display_name": "Python 3 (ipykernel)",
   "language": "python",
   "name": "python3"
  },
  "language_info": {
   "codemirror_mode": {
    "name": "ipython",
    "version": 3
   },
   "file_extension": ".py",
   "mimetype": "text/x-python",
   "name": "python",
   "nbconvert_exporter": "python",
   "pygments_lexer": "ipython3",
   "version": "3.9.6"
  }
 },
 "nbformat": 4,
 "nbformat_minor": 5
}
