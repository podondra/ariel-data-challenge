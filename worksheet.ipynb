{
 "cells": [
  {
   "cell_type": "code",
   "execution_count": null,
   "id": "0ec1dafe-d4f2-48e9-978b-7164fac07bea",
   "metadata": {},
   "outputs": [],
   "source": [
    "import numpy as np\n",
    "from sklearn.model_selection import train_test_split\n",
    "import torch\n",
    "from torch import nn\n",
    "from torch.nn import functional as F\n",
    "from torch.utils.data import DataLoader, TensorDataset"
   ]
  },
  {
   "cell_type": "code",
   "execution_count": null,
   "id": "775b9bb4-3473-491d-99b1-2808fa0f3f8d",
   "metadata": {},
   "outputs": [],
   "source": [
    "import ariel"
   ]
  },
  {
   "cell_type": "code",
   "execution_count": null,
   "id": "a9a616b6-9a04-488e-a0d7-1c20db843e9d",
   "metadata": {},
   "outputs": [],
   "source": [
    "X = ariel.read_spectra()\n",
    "X.shape, X.dtype"
   ]
  },
  {
   "cell_type": "code",
   "execution_count": null,
   "id": "ab29531d-d883-43cb-8319-5da30efaadee",
   "metadata": {},
   "outputs": [],
   "source": [
    "quartiles = ariel.read_quartiles_table()\n",
    "quartiles.shape, quartiles.dtype"
   ]
  },
  {
   "cell_type": "code",
   "execution_count": null,
   "id": "1695e86c-2998-4201-9dab-37d1f8a5c7be",
   "metadata": {},
   "outputs": [],
   "source": [
    "Y = torch.from_numpy(quartiles[1]).float()\n",
    "Y.shape, Y.dtype"
   ]
  },
  {
   "cell_type": "code",
   "execution_count": null,
   "id": "c85d34b6-4cd2-427c-bc86-b9313e1e20c7",
   "metadata": {},
   "outputs": [],
   "source": [
    "# TODO out-of-distribution split?\n",
    "ids = torch.arange(ariel.N)\n",
    "ids_train, ids_valid = train_test_split(ids, train_size=0.8, random_state=36)\n",
    "idx_train = torch.zeros_like(ids, dtype=torch.bool)\n",
    "idx_train[ids_train] = True\n",
    "idx_valid = ~idx_train\n",
    "X_train, X_valid = X[idx_train], X[idx_valid]\n",
    "Y_train, Y_valid = Y[idx_train], Y[idx_valid]\n",
    "quartiles_train, quartiles_valid = quartiles[:, idx_train], quartiles[:, idx_valid]\n",
    "ids_train.shape, ids_valid.shape"
   ]
  },
  {
   "cell_type": "code",
   "execution_count": null,
   "id": "3d1f0164-b0c2-4ae8-9575-f47c5d14d940",
   "metadata": {},
   "outputs": [],
   "source": [
    "X_train_mean, X_train_std = X_train.mean(), X_train.std()\n",
    "X_train = ariel.standardise(X_train, X_train_mean, X_train_std)\n",
    "X_valid = ariel.standardise(X_valid, X_train_mean, X_train_std)\n",
    "\n",
    "Y_train_mean, Y_train_std = Y_train.mean(dim=0), Y_train.mean(dim=0)\n",
    "Y_train = ariel.standardise(Y_train, Y_train_mean, Y_train_std)\n",
    "Y_valid = ariel.standardise(Y_valid, Y_train_mean, Y_train_std)"
   ]
  },
  {
   "cell_type": "code",
   "execution_count": null,
   "id": "c36973fb-f68c-45a4-8fc4-b90290c1a17e",
   "metadata": {},
   "outputs": [],
   "source": [
    "X_train, X_valid = X_train.cuda(), X_valid.cuda()\n",
    "Y_train, Y_valid = Y_train.cuda(), Y_valid.cuda()"
   ]
  },
  {
   "cell_type": "code",
   "execution_count": null,
   "id": "bb751438-0cf3-4e63-b534-57041d4bd38e",
   "metadata": {},
   "outputs": [],
   "source": [
    "class MCCNN(nn.Module):\n",
    "    def __init__(self, dropout_probability):\n",
    "        super(MCCNN, self).__init__()\n",
    "        self.model = nn.Sequential(\n",
    "            nn.Conv1d(1, 32, 3),\n",
    "            nn.ReLU(),\n",
    "            nn.Conv1d(32, 32, 3),\n",
    "            nn.ReLU(),\n",
    "            nn.MaxPool1d(2),\n",
    "            nn.Conv1d(32, 64, 3),\n",
    "            nn.ReLU(),\n",
    "            nn.Conv1d(64, 64, 3),\n",
    "            nn.ReLU(),\n",
    "            nn.MaxPool1d(2),\n",
    "            nn.Conv1d(64, 128, 3),\n",
    "            nn.ReLU(),\n",
    "            nn.Conv1d(128, 128, 3),\n",
    "            nn.ReLU(),\n",
    "            nn.MaxPool1d(2),\n",
    "            nn.Flatten(),\n",
    "            nn.Linear(384, 256),\n",
    "            nn.Dropout(dropout_probability),\n",
    "            nn.Linear(256, 256),\n",
    "            nn.Dropout(dropout_probability),\n",
    "            nn.Linear(256, ariel.N_TARGETS))\n",
    "\n",
    "    def forward(self, X):\n",
    "        return self.model(X)\n",
    "    \n",
    "    def loss(self, Y_pred, Y):\n",
    "        return F.mse_loss(Y_pred, Y)\n",
    "\n",
    "model = MCCNN(dropout_probability=0.1).cuda()"
   ]
  },
  {
   "cell_type": "code",
   "execution_count": null,
   "id": "35149ac1-b2ee-4925-a21a-6983e6e8bf1f",
   "metadata": {},
   "outputs": [],
   "source": [
    "from importlib import reload\n",
    "reload(ariel)\n",
    "\n",
    "trainloader = DataLoader(TensorDataset(X_train, Y_train), batch_size=256, shuffle=True)\n",
    "ariel.train(\n",
    "    model,\n",
    "    trainloader,\n",
    "    (X_valid, quartiles_valid),\n",
    "    Y_train_mean, Y_train_std)"
   ]
  }
 ],
 "metadata": {
  "kernelspec": {
   "display_name": "Python 3 (ipykernel)",
   "language": "python",
   "name": "python3"
  },
  "language_info": {
   "codemirror_mode": {
    "name": "ipython",
    "version": 3
   },
   "file_extension": ".py",
   "mimetype": "text/x-python",
   "name": "python",
   "nbconvert_exporter": "python",
   "pygments_lexer": "ipython3",
   "version": "3.9.6"
  }
 },
 "nbformat": 4,
 "nbformat_minor": 5
}
