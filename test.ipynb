{
 "cells": [
  {
   "cell_type": "code",
   "execution_count": null,
   "id": "da575121-3cdc-448e-913b-396478ace71a",
   "metadata": {},
   "outputs": [],
   "source": [
    "import numpy as np\n",
    "import torch\n",
    "\n",
    "from ariel import *"
   ]
  },
  {
   "cell_type": "code",
   "execution_count": null,
   "id": "d88c133d-9e8d-490e-84e8-d1d84a69d8c6",
   "metadata": {},
   "outputs": [],
   "source": [
    "def sample_normal(mean, std, T):\n",
    "    return np.random.normal(loc=mean, scale=std, size=(T, *mean.shape)).swapaxes(0, 1)"
   ]
  },
  {
   "cell_type": "code",
   "execution_count": null,
   "id": "4063a028-5a95-4887-b372-ad3eed3d1eaa",
   "metadata": {},
   "outputs": [],
   "source": [
    "modelnames = [\n",
    "    \"morning-grass-661\",\n",
    "    \"fanciful-star-651\",\n",
    "    \"clean-lake-649\",\n",
    "    \"classic-durian-662\",\n",
    "    \"scarlet-dew-666\",\n",
    "    \"quiet-forest-655\",\n",
    "    \"hopeful-hill-651\",\n",
    "    \"whole-tree-648\",\n",
    "    \"faithful-elevator-659\",\n",
    "    \"spring-violet-650\",\n",
    "    \"brisk-cloud-657\",\n",
    "    \"drawn-dream-663\",\n",
    "    \"pretty-smoke-660\",\n",
    "    \"toasty-firebrand-671\",\n",
    "    \"brisk-sunset-664\",\n",
    "    \"lunar-firefly-656\",\n",
    "    \"balmy-oath-668\",\n",
    "    \"eternal-donkey-658\",\n",
    "    \"hopeful-serenity-653\",\n",
    "    \"stoic-jazz-670\"\n",
    "]\n",
    "state_dicts = [\"models/\" + modelname + \".pt\" for modelname in modelnames]\n",
    "models = [Model(DEFAULT_HYPERPARAMETERS) for state_dict in state_dicts]\n",
    "for model, state_dict in zip(models, state_dicts):\n",
    "    model.load_state_dict(torch.load(state_dict, map_location=torch.device(DEVICE)))\n",
    "    model.eval()\n",
    "len(models)"
   ]
  },
  {
   "cell_type": "code",
   "execution_count": null,
   "id": "2746b78a-e853-4e8a-b02e-9be022749124",
   "metadata": {},
   "outputs": [],
   "source": [
    "ids_train = np.arange(N_ANNOTATED)\n",
    "trainset = get_dataset(ids_train)"
   ]
  },
  {
   "cell_type": "markdown",
   "id": "53bbd616-23ce-464a-a099-97b890927b58",
   "metadata": {},
   "source": [
    "## Test set"
   ]
  },
  {
   "cell_type": "code",
   "execution_count": null,
   "id": "08e3412f-7bcd-4d21-ad87-8cfa72a96d7b",
   "metadata": {},
   "outputs": [],
   "source": [
    "ids_test = np.arange(N_TEST)\n",
    "spectra_test = read_spectra(ids_test, path=\"data/test/spectra.hdf5\")\n",
    "X_test = spectra_test[1]\n",
    "auxiliary_test = read_auxiliary_table(ids_test, path=\"data/test/auxiliary_table.csv\")\n",
    "X_test = scale(X_test)\n",
    "auxiliary_test = standardise(auxiliary_test, trainset.auxiliary_mean, trainset.auxiliary_std)\n",
    "X_test.shape, X_test.dtype, auxiliary_test.shape, auxiliary_test.dtype"
   ]
  },
  {
   "cell_type": "code",
   "execution_count": null,
   "id": "262a80e8-2278-4c59-a746-ec58a35976d0",
   "metadata": {},
   "outputs": [],
   "source": [
    "with torch.no_grad():\n",
    "    outputs_test = [model(X_test, auxiliary_test) for model in models]\n",
    "\n",
    "T = 1000 // len(models)\n",
    "samples_test = [sample_normal(mean, torch.sqrt(var), T) for mean, var in outputs_test]\n",
    "sample_test = np.concatenate(samples_test, axis=1)\n",
    "quartiles_test = np.quantile(sample_test, QUARTILES, axis=1)\n",
    "sample_test.shape, quartiles_test.shape"
   ]
  },
  {
   "cell_type": "code",
   "execution_count": null,
   "id": "dd8825d0-97dd-4952-b801-fcdec6a18515",
   "metadata": {},
   "outputs": [],
   "source": [
    "light_track = light_track_format(quartiles_test)\n",
    "light_track"
   ]
  },
  {
   "cell_type": "code",
   "execution_count": null,
   "id": "8009a2b5-c26e-4552-8158-a8f3ee1c433f",
   "metadata": {},
   "outputs": [],
   "source": [
    "regular_track_format(sample_test)"
   ]
  }
 ],
 "metadata": {
  "kernelspec": {
   "display_name": "Python 3 (ipykernel)",
   "language": "python",
   "name": "python3"
  },
  "language_info": {
   "codemirror_mode": {
    "name": "ipython",
    "version": 3
   },
   "file_extension": ".py",
   "mimetype": "text/x-python",
   "name": "python",
   "nbconvert_exporter": "python",
   "pygments_lexer": "ipython3",
   "version": "3.9.6"
  }
 },
 "nbformat": 4,
 "nbformat_minor": 5
}
