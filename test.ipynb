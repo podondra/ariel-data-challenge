{
 "cells": [
  {
   "cell_type": "code",
   "execution_count": null,
   "id": "da575121-3cdc-448e-913b-396478ace71a",
   "metadata": {},
   "outputs": [],
   "source": [
    "import numpy as np\n",
    "from sklearn.model_selection import train_test_split\n",
    "import torch\n",
    "\n",
    "from ariel import *"
   ]
  },
  {
   "cell_type": "code",
   "execution_count": null,
   "id": "d88c133d-9e8d-490e-84e8-d1d84a69d8c6",
   "metadata": {},
   "outputs": [],
   "source": [
    "def sample_normal(mean, std, T):\n",
    "    return np.stack([np.random.normal(loc=mean, scale=std) for i in range(T)], axis=1)"
   ]
  },
  {
   "cell_type": "markdown",
   "id": "dd87a8fd-f3ff-4bd0-b9cb-e5f94c7d9438",
   "metadata": {},
   "source": [
    "## Validation set"
   ]
  },
  {
   "cell_type": "code",
   "execution_count": null,
   "id": "2746b78a-e853-4e8a-b02e-9be022749124",
   "metadata": {},
   "outputs": [],
   "source": [
    "ids = np.arange(N)\n",
    "ids_train, ids_valid = train_test_split(ids, train_size=0.8, random_state=36)\n",
    "data_train = get_dataset(ids_train)\n",
    "data_valid = get_dataset(ids_valid)\n",
    "trainset = NoisySpectraDataset(*data_train)\n",
    "validset = SpectraDataset(\n",
    "    *data_valid,\n",
    "    trainset.auxiliary_train_mean, trainset.auxiliary_train_std)\n",
    "ids_train.shape, ids_valid.shape"
   ]
  },
  {
   "cell_type": "code",
   "execution_count": null,
   "id": "4063a028-5a95-4887-b372-ad3eed3d1eaa",
   "metadata": {},
   "outputs": [],
   "source": [
    "modelnames = [\"dauntless-vortex-103\", \"hopeful-morning-102\", \"light-brook-101\", \"distinctive-cosmos-104\", \"misunderstood-glitter-105\"]\n",
    "modelnames = [\"polished-sea-115\", \"noble-moon-114\", \"radiant-dream-112\", \"wandering-cosmos-113\", \"lilac-blaze-111\"]\n",
    "state_dicts = [\"models/\" + modelname + \".pt\" for modelname in modelnames]\n",
    "models = [Model(DEFAULT_HYPERPARAMETERS) for state_dict in state_dicts]\n",
    "device = \"cuda\" if torch.cuda.is_available() else \"cpu\"\n",
    "for model, state_dict in zip(models, state_dicts):\n",
    "    model.load_state_dict(torch.load(state_dict, map_location=torch.device(device)))\n",
    "len(models)"
   ]
  },
  {
   "cell_type": "code",
   "execution_count": null,
   "id": "c644109e-be11-4cee-b2f7-af90d373e107",
   "metadata": {},
   "outputs": [],
   "source": [
    "outputs_valid = [model.predict(validset) for model in models]\n",
    "samples_valid = np.concatenate([\n",
    "    sample_normal(mean, torch.sqrt(var), T=1000) for mean, var in outputs_valid],\n",
    "    axis=1)\n",
    "quartiles_valid = np.quantile(samples_valid, QUARTILES, axis=1)\n",
    "light_score(validset.quartiles, quartiles_valid)"
   ]
  },
  {
   "cell_type": "code",
   "execution_count": null,
   "id": "104926f3-317d-42a8-99b7-deeb460e14a7",
   "metadata": {},
   "outputs": [],
   "source": [
    "# 995.126070254648 (test: 975.3316644649024)\n",
    "# noisy data: 989.6687695924106 (test: 975.2577801950997)"
   ]
  },
  {
   "cell_type": "code",
   "execution_count": null,
   "id": "27d10116-564e-48f2-b3bf-87f233a32cc6",
   "metadata": {
    "scrolled": true,
    "tags": []
   },
   "outputs": [],
   "source": [
    "regular_score(samples_valid[:500], validset.ids[:500])"
   ]
  },
  {
   "cell_type": "code",
   "execution_count": null,
   "id": "29614b7e-2f32-4464-a163-49f923ef032b",
   "metadata": {},
   "outputs": [],
   "source": [
    "# 994.6852719977115 (test: 971.0450579106324)\n",
    "# noisy data: 988.6791129818406 (test: 970.174913016858)"
   ]
  },
  {
   "cell_type": "markdown",
   "id": "53bbd616-23ce-464a-a099-97b890927b58",
   "metadata": {},
   "source": [
    "## Test set"
   ]
  },
  {
   "cell_type": "code",
   "execution_count": null,
   "id": "08e3412f-7bcd-4d21-ad87-8cfa72a96d7b",
   "metadata": {},
   "outputs": [],
   "source": [
    "ids_test = np.arange(800)\n",
    "spectra_test = read_spectra(ids_test, path=\"data/test/spectra.hdf5\")\n",
    "X_test = spectra_test[1]\n",
    "auxiliary_test = read_auxiliary_table(ids_test, path=\"data/test/auxiliary_table.csv\")\n",
    "X_test = scale(X_test)\n",
    "auxiliary_test = standardise(auxiliary_test, trainset.auxiliary_train_mean, trainset.auxiliary_train_std)\n",
    "X_test.shape, X_test.dtype, auxiliary_test.shape, auxiliary_test.dtype"
   ]
  },
  {
   "cell_type": "code",
   "execution_count": null,
   "id": "bae26b5e-8023-4165-b7df-c008859d3b63",
   "metadata": {},
   "outputs": [],
   "source": [
    "with torch.no_grad():\n",
    "    outputs_test = [model(X_test, auxiliary_test) for model in models]\n",
    "samples_test = np.concatenate([\n",
    "    sample_normal(mean, torch.sqrt(var), T=250) for mean, var in outputs_test],\n",
    "    axis=1)\n",
    "quartiles_test = np.quantile(samples_test, QUARTILES, axis=1)\n",
    "light_track = light_track_format(quartiles_test)\n",
    "light_track"
   ]
  },
  {
   "cell_type": "code",
   "execution_count": null,
   "id": "8009a2b5-c26e-4552-8158-a8f3ee1c433f",
   "metadata": {},
   "outputs": [],
   "source": [
    "regular_track_format(samples_test)\n",
    "samples_test.shape"
   ]
  }
 ],
 "metadata": {
  "kernelspec": {
   "display_name": "Python 3 (ipykernel)",
   "language": "python",
   "name": "python3"
  },
  "language_info": {
   "codemirror_mode": {
    "name": "ipython",
    "version": 3
   },
   "file_extension": ".py",
   "mimetype": "text/x-python",
   "name": "python",
   "nbconvert_exporter": "python",
   "pygments_lexer": "ipython3",
   "version": "3.9.6"
  }
 },
 "nbformat": 4,
 "nbformat_minor": 5
}
