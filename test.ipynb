{
 "cells": [
  {
   "cell_type": "code",
   "execution_count": null,
   "id": "da575121-3cdc-448e-913b-396478ace71a",
   "metadata": {},
   "outputs": [],
   "source": [
    "import numpy as np\n",
    "from sklearn.model_selection import train_test_split\n",
    "import torch\n",
    "\n",
    "from ariel import *"
   ]
  },
  {
   "cell_type": "markdown",
   "id": "dd87a8fd-f3ff-4bd0-b9cb-e5f94c7d9438",
   "metadata": {},
   "source": [
    "## Validation set"
   ]
  },
  {
   "cell_type": "code",
   "execution_count": null,
   "id": "ac803ca2-60a8-4d86-ad72-e70042f4ad67",
   "metadata": {},
   "outputs": [],
   "source": [
    "ids_pretrain = np.arange(N_ANNOTATED, N)\n",
    "data_pretrain = get_data(ids_pretrain, pretrain=True)\n",
    "pretrainset = NoisySpectraDataset(**data_pretrain)\n",
    "ids_train = np.arange(N_ANNOTATED)\n",
    "ids_train, ids_valid = train_test_split(ids_train, train_size=0.8, random_state=36)\n",
    "data_train = get_data(ids_train)\n",
    "data_valid = get_data(ids_valid)\n",
    "trainset = NoisySpectraDataset(\n",
    "        **data_train,\n",
    "        auxiliary_mean=pretrainset.auxiliary_mean, auxiliary_std=pretrainset.auxiliary_std)\n",
    "validset = SpectraDataset(\n",
    "        **data_valid,\n",
    "        auxiliary_mean=pretrainset.auxiliary_mean, auxiliary_std=pretrainset.auxiliary_std)"
   ]
  },
  {
   "cell_type": "code",
   "execution_count": null,
   "id": "4063a028-5a95-4887-b372-ad3eed3d1eaa",
   "metadata": {},
   "outputs": [],
   "source": [
    "modelnames = [\n",
    "    \"rose-frog-439\",\n",
    "    \"eager-water-440\",\n",
    "    \"ancient-deluge-441\",\n",
    "    \"fast-cherry-442\",\n",
    "    \"trim-dew-443\",\n",
    "    \"comic-violet-444\",\n",
    "    \"dutiful-star-445\",\n",
    "    \"vague-dew-446\",\n",
    "    \"skilled-vortex-447\",\n",
    "    \"fluent-sea-448\",\n",
    "    \"cosmic-terrain-449\",\n",
    "    \"twilight-haze-450\",\n",
    "    \"hearty-snowflake-451\",\n",
    "    \"swift-gorge-452\",\n",
    "    \"efficient-water-453\",\n",
    "    \"usual-breeze-454\",\n",
    "    \"soft-pyramid-455\",\n",
    "    \"silvery-sound-456\",\n",
    "    \"tough-fire-457\",\n",
    "    \"pretty-hill-458\"\n",
    "]\n",
    "state_dicts = [\"models/\" + modelname + \".pt\" for modelname in modelnames]\n",
    "models = [Model(DEFAULT_HYPERPARAMETERS) for state_dict in state_dicts]\n",
    "for model, state_dict in zip(models, state_dicts):\n",
    "    model.load_state_dict(torch.load(state_dict, map_location=torch.device(DEVICE)))\n",
    "    model.eval()\n",
    "len(models)"
   ]
  },
  {
   "cell_type": "code",
   "execution_count": null,
   "id": "eac8a2ce-d955-4b33-ba00-80c39faef394",
   "metadata": {},
   "outputs": [],
   "source": [
    "def sample_normal(mean, L, T):\n",
    "    sample = distributions.MultivariateNormal(mean, scale_tril=L).sample((T, ))\n",
    "    return torch.transpose(sample, 0, 1) "
   ]
  },
  {
   "cell_type": "code",
   "execution_count": null,
   "id": "1b185a53-b13f-4215-bb00-c14e050625f7",
   "metadata": {},
   "outputs": [],
   "source": [
    "outputs_valid = [model.predict(validset) for model in models]\n",
    "T = 5000 // len(models)\n",
    "samples_valid = [sample_normal(mean, L, T) for mean, L in outputs_valid]\n",
    "sample_valid = np.concatenate(samples_valid, axis=1)\n",
    "quartiles_valid = np.quantile(sample_valid, QUARTILES, axis=1)\n",
    "light_score(validset.quartiles, quartiles_valid)"
   ]
  },
  {
   "cell_type": "code",
   "execution_count": null,
   "id": "09e9148f-fe01-466e-800b-19e0d73f002c",
   "metadata": {},
   "outputs": [],
   "source": [
    "regular_score(sample_valid[:500], validset.ids[:500])"
   ]
  },
  {
   "cell_type": "markdown",
   "id": "53bbd616-23ce-464a-a099-97b890927b58",
   "metadata": {},
   "source": [
    "## Test set"
   ]
  },
  {
   "cell_type": "code",
   "execution_count": null,
   "id": "08e3412f-7bcd-4d21-ad87-8cfa72a96d7b",
   "metadata": {},
   "outputs": [],
   "source": [
    "ids_test = np.arange(800)\n",
    "spectra_test = read_spectra(ids_test, path=\"data/test/spectra.hdf5\")\n",
    "X_test = spectra_test[1]\n",
    "auxiliary_test = read_auxiliary_table(ids_test, path=\"data/test/auxiliary_table.csv\")\n",
    "X_test = scale(X_test)\n",
    "auxiliary_test = standardise(\n",
    "    auxiliary_test, pretrainset.auxiliary_mean, pretrainset.auxiliary_std)\n",
    "X_test.shape, X_test.dtype, auxiliary_test.shape, auxiliary_test.dtype"
   ]
  },
  {
   "cell_type": "code",
   "execution_count": null,
   "id": "d0bef945-1cae-4ed8-a5c3-b5fbfcaf22a9",
   "metadata": {},
   "outputs": [],
   "source": [
    "with torch.no_grad():\n",
    "    outputs_test = [model(X_test, auxiliary_test) for model in models]\n",
    "\n",
    "samples_test = [sample_normal(mean, L, T=250) for mean, L in outputs_test]\n",
    "sample_test = np.concatenate(samples_test, axis=1)\n",
    "quartiles_test = np.quantile(sample_test, QUARTILES, axis=1)\n",
    "sample_test.shape, quartiles_test.shape"
   ]
  },
  {
   "cell_type": "code",
   "execution_count": null,
   "id": "4b0449b6-7296-43de-935c-2f3c57d11fed",
   "metadata": {},
   "outputs": [],
   "source": [
    "light_track = light_track_format(quartiles_test)\n",
    "light_track"
   ]
  },
  {
   "cell_type": "code",
   "execution_count": null,
   "id": "8009a2b5-c26e-4552-8158-a8f3ee1c433f",
   "metadata": {},
   "outputs": [],
   "source": [
    "regular_track_format(sample_test)\n",
    "sample_test.shape"
   ]
  }
 ],
 "metadata": {
  "kernelspec": {
   "display_name": "Python 3 (ipykernel)",
   "language": "python",
   "name": "python3"
  },
  "language_info": {
   "codemirror_mode": {
    "name": "ipython",
    "version": 3
   },
   "file_extension": ".py",
   "mimetype": "text/x-python",
   "name": "python",
   "nbconvert_exporter": "python",
   "pygments_lexer": "ipython3",
   "version": "3.9.6"
  }
 },
 "nbformat": 4,
 "nbformat_minor": 5
}
