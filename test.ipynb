{
 "cells": [
  {
   "cell_type": "code",
   "execution_count": 1,
   "id": "3510f3b8-01e4-44de-a050-0270b61ae744",
   "metadata": {},
   "outputs": [],
   "source": [
    "import h5py\n",
    "import numpy as np\n",
    "import ot\n",
    "import pandas as pd\n",
    "from sklearn.model_selection import train_test_split\n",
    "import torch\n",
    "from tqdm.notebook import tqdm_notebook\n",
    "\n",
    "from ariel import *"
   ]
  },
  {
   "cell_type": "code",
   "execution_count": 2,
   "id": "e02e8779-3556-45e8-9ab1-7e927e1de5a1",
   "metadata": {},
   "outputs": [
    {
     "data": {
      "text/plain": [
       "Model(\n",
       "  (input): Linear(in_features=61, out_features=2048, bias=True)\n",
       "  (linear1): Linear(in_features=2048, out_features=2048, bias=True)\n",
       "  (linear2): Linear(in_features=2048, out_features=2048, bias=True)\n",
       "  (linear3): Linear(in_features=2048, out_features=2048, bias=True)\n",
       "  (linear4): Linear(in_features=2048, out_features=2048, bias=True)\n",
       "  (linear5): Linear(in_features=2048, out_features=2048, bias=True)\n",
       "  (output): Linear(in_features=2048, out_features=12, bias=True)\n",
       ")"
      ]
     },
     "execution_count": 2,
     "metadata": {},
     "output_type": "execute_result"
    }
   ],
   "source": [
    "model = Model(HYPERPARAMETER_DEFAULTS)\n",
    "model.load_state_dict(torch.load(\n",
    "    \"models/silver-sweep-24.pt\", map_location=torch.device('cpu')))\n",
    "model.eval()"
   ]
  },
  {
   "cell_type": "code",
   "execution_count": 3,
   "id": "8fd03fff-fe52-43ed-84a4-52c5b6e9d37b",
   "metadata": {},
   "outputs": [
    {
     "data": {
      "text/plain": [
       "(tensor(0.0052),\n",
       " tensor(0.0074),\n",
       " tensor([5.6913e+02, 2.0330e+30, 8.5143e+08, 5.6658e+03, 1.0991e+27, 2.4572e+01,\n",
       "         1.1997e-01, 4.4601e+07, 1.6370e+01]),\n",
       " tensor([4.7075e+02, 6.8741e+29, 4.6110e+08, 9.3514e+02, 8.2191e+27, 9.6469e+01,\n",
       "         1.9630e-01, 3.5628e+07, 6.6791e+01]))"
      ]
     },
     "execution_count": 3,
     "metadata": {},
     "output_type": "execute_result"
    }
   ],
   "source": [
    "trainset, validset = get_datasets()\n",
    "X_train_mean, X_train_std = trainset.X_train_mean, trainset.X_train_std\n",
    "auxiliary_train_mean = trainset.auxiliary_train_mean\n",
    "auxiliary_train_std = trainset.auxiliary_train_std\n",
    "X_train_mean, X_train_std, auxiliary_train_mean, auxiliary_train_std"
   ]
  },
  {
   "cell_type": "code",
   "execution_count": 4,
   "id": "46c5c85e-ebf4-437d-a642-c0d9b94be68c",
   "metadata": {},
   "outputs": [
    {
     "data": {
      "text/plain": [
       "((4398, 6), (4398, 6), (4398, 6))"
      ]
     },
     "execution_count": 4,
     "metadata": {},
     "output_type": "execute_result"
    }
   ],
   "source": [
    "mean_valid, var_valid = model.predict(validset)\n",
    "mean_valid, var_valid = mean_valid.cpu().numpy(), var_valid.cpu().numpy()\n",
    "std_valid = np.sqrt(var_valid)\n",
    "mean_valid.shape, var_valid.shape, std_valid.shape"
   ]
  },
  {
   "cell_type": "code",
   "execution_count": 5,
   "id": "350fcd39-51ec-4e7b-afb6-f484e29cbf99",
   "metadata": {},
   "outputs": [
    {
     "data": {
      "text/plain": [
       "(3, 4398, 6)"
      ]
     },
     "execution_count": 5,
     "metadata": {},
     "output_type": "execute_result"
    }
   ],
   "source": [
    "def get_quartiles(mean, std):\n",
    "    return np.stack([norm.ppf(quartile, loc=mean, scale=std) for quartile in QUARTILES])\n",
    "\n",
    "quartiles_valid_pred = get_quartiles(mean_valid, std_valid)\n",
    "quartiles_valid_pred.shape"
   ]
  },
  {
   "cell_type": "code",
   "execution_count": 6,
   "id": "5363b8b6-e367-45c0-8e24-fce2401baa30",
   "metadata": {},
   "outputs": [
    {
     "data": {
      "text/plain": [
       "975.8500492089638"
      ]
     },
     "execution_count": 6,
     "metadata": {},
     "output_type": "execute_result"
    }
   ],
   "source": [
    "light_score(validset.quartiles, quartiles_valid_pred)"
   ]
  },
  {
   "cell_type": "code",
   "execution_count": 7,
   "id": "ba2cf192-c97c-428e-8eef-9906b0737b76",
   "metadata": {},
   "outputs": [
    {
     "data": {
      "text/plain": [
       "(4398, 5000, 6)"
      ]
     },
     "execution_count": 7,
     "metadata": {},
     "output_type": "execute_result"
    }
   ],
   "source": [
    "def sample_normal(mean, std, T=5000):\n",
    "    return np.stack([np.random.normal(loc=mean, scale=std) for i in range(T)], axis=1)\n",
    "\n",
    "Y_valid_pred = sample_normal(mean_valid, std_valid)\n",
    "Y_valid_pred.shape"
   ]
  },
  {
   "cell_type": "code",
   "execution_count": 8,
   "id": "94980ddb-32d2-479b-8eb8-8e01d13ccb98",
   "metadata": {
    "scrolled": true,
    "tags": []
   },
   "outputs": [],
   "source": [
    "#regular_score(\"data/train/ground_truth/traces.hdf5\", Y_valid_pred, validset.ids)"
   ]
  },
  {
   "cell_type": "code",
   "execution_count": 9,
   "id": "fbf35ce7-ed5d-4d83-9e7a-d43de62e3a64",
   "metadata": {},
   "outputs": [
    {
     "data": {
      "text/plain": [
       "(torch.Size([500, 52]), torch.float32, torch.Size([500, 9]), torch.float32)"
      ]
     },
     "execution_count": 9,
     "metadata": {},
     "output_type": "execute_result"
    }
   ],
   "source": [
    "N_test = 500\n",
    "spectra_test = read_spectra(path=\"data/test/spectra.hdf5\", n=N_test)\n",
    "X_test = spectra_test[1]\n",
    "auxiliary_test = read_auxiliary_table(path=\"data/test/auxiliary_table.csv\", n=N_test)\n",
    "\n",
    "X_test = standardise(X_test, X_train_mean, X_train_std)\n",
    "auxiliary_test = standardise(auxiliary_test, auxiliary_train_mean, auxiliary_train_std)\n",
    "\n",
    "if torch.cuda.is_available():\n",
    "    X_test, auxiliary_test = X_test.cuda(), auxiliary_test.cuda()\n",
    "\n",
    "X_test.shape, X_test.dtype, auxiliary_test.shape, auxiliary_test.dtype"
   ]
  },
  {
   "cell_type": "code",
   "execution_count": 10,
   "id": "c48f62de-d5e8-4faa-9397-ba32c9d63227",
   "metadata": {},
   "outputs": [
    {
     "data": {
      "text/plain": [
       "((500, 6), (500, 6), (500, 6), (3, 500, 6))"
      ]
     },
     "execution_count": 10,
     "metadata": {},
     "output_type": "execute_result"
    }
   ],
   "source": [
    "with torch.no_grad():\n",
    "    mean_test, var_test = model(X_test, auxiliary_test)\n",
    "mean_test, var_test = mean_test.cpu().numpy(), var_test.cpu().numpy()\n",
    "std_test = np.sqrt(var_test)\n",
    "quartiles_test_pred = get_quartiles(mean_test, std_test)\n",
    "mean_test.shape, var_test.shape, std_test.shape, quartiles_test_pred.shape"
   ]
  },
  {
   "cell_type": "code",
   "execution_count": 11,
   "id": "283e9196-08ea-4e7c-87b7-5a210806f24a",
   "metadata": {},
   "outputs": [
    {
     "data": {
      "text/html": [
       "<div>\n",
       "<style scoped>\n",
       "    .dataframe tbody tr th:only-of-type {\n",
       "        vertical-align: middle;\n",
       "    }\n",
       "\n",
       "    .dataframe tbody tr th {\n",
       "        vertical-align: top;\n",
       "    }\n",
       "\n",
       "    .dataframe thead th {\n",
       "        text-align: right;\n",
       "    }\n",
       "</style>\n",
       "<table border=\"1\" class=\"dataframe\">\n",
       "  <thead>\n",
       "    <tr style=\"text-align: right;\">\n",
       "      <th></th>\n",
       "      <th>T_q1</th>\n",
       "      <th>T_q2</th>\n",
       "      <th>T_q3</th>\n",
       "      <th>log_H2O_q1</th>\n",
       "      <th>log_H2O_q2</th>\n",
       "      <th>log_H2O_q3</th>\n",
       "      <th>log_CO2_q1</th>\n",
       "      <th>log_CO2_q2</th>\n",
       "      <th>log_CO2_q3</th>\n",
       "      <th>log_CH4_q1</th>\n",
       "      <th>log_CH4_q2</th>\n",
       "      <th>log_CH4_q3</th>\n",
       "      <th>log_CO_q1</th>\n",
       "      <th>log_CO_q2</th>\n",
       "      <th>log_CO_q3</th>\n",
       "      <th>log_NH3_q1</th>\n",
       "      <th>log_NH3_q2</th>\n",
       "      <th>log_NH3_q3</th>\n",
       "    </tr>\n",
       "    <tr>\n",
       "      <th>planet_ID</th>\n",
       "      <th></th>\n",
       "      <th></th>\n",
       "      <th></th>\n",
       "      <th></th>\n",
       "      <th></th>\n",
       "      <th></th>\n",
       "      <th></th>\n",
       "      <th></th>\n",
       "      <th></th>\n",
       "      <th></th>\n",
       "      <th></th>\n",
       "      <th></th>\n",
       "      <th></th>\n",
       "      <th></th>\n",
       "      <th></th>\n",
       "      <th></th>\n",
       "      <th></th>\n",
       "      <th></th>\n",
       "    </tr>\n",
       "  </thead>\n",
       "  <tbody>\n",
       "    <tr>\n",
       "      <th>0</th>\n",
       "      <td>1079.940998</td>\n",
       "      <td>1096.160034</td>\n",
       "      <td>1112.379071</td>\n",
       "      <td>-8.576547</td>\n",
       "      <td>-7.593754</td>\n",
       "      <td>-6.610961</td>\n",
       "      <td>-4.715073</td>\n",
       "      <td>-4.574337</td>\n",
       "      <td>-4.433601</td>\n",
       "      <td>-11.221022</td>\n",
       "      <td>-9.560147</td>\n",
       "      <td>-7.899273</td>\n",
       "      <td>-8.981201</td>\n",
       "      <td>-6.273302</td>\n",
       "      <td>-3.565402</td>\n",
       "      <td>-6.395953</td>\n",
       "      <td>-6.100485</td>\n",
       "      <td>-5.805016</td>\n",
       "    </tr>\n",
       "    <tr>\n",
       "      <th>1</th>\n",
       "      <td>1581.346336</td>\n",
       "      <td>1605.782104</td>\n",
       "      <td>1630.217873</td>\n",
       "      <td>-4.957945</td>\n",
       "      <td>-4.881715</td>\n",
       "      <td>-4.805484</td>\n",
       "      <td>-4.924945</td>\n",
       "      <td>-4.794497</td>\n",
       "      <td>-4.664048</td>\n",
       "      <td>-9.205572</td>\n",
       "      <td>-8.015659</td>\n",
       "      <td>-6.825746</td>\n",
       "      <td>-9.565350</td>\n",
       "      <td>-6.740133</td>\n",
       "      <td>-3.914917</td>\n",
       "      <td>-9.824878</td>\n",
       "      <td>-8.174597</td>\n",
       "      <td>-6.524316</td>\n",
       "    </tr>\n",
       "    <tr>\n",
       "      <th>2</th>\n",
       "      <td>5054.174185</td>\n",
       "      <td>5117.702637</td>\n",
       "      <td>5181.231088</td>\n",
       "      <td>-10.143639</td>\n",
       "      <td>-8.585912</td>\n",
       "      <td>-7.028184</td>\n",
       "      <td>-11.503229</td>\n",
       "      <td>-9.515368</td>\n",
       "      <td>-7.527508</td>\n",
       "      <td>-10.243748</td>\n",
       "      <td>-8.920275</td>\n",
       "      <td>-7.596801</td>\n",
       "      <td>-4.971709</td>\n",
       "      <td>-3.902348</td>\n",
       "      <td>-2.832986</td>\n",
       "      <td>-11.003402</td>\n",
       "      <td>-8.511102</td>\n",
       "      <td>-6.018801</td>\n",
       "    </tr>\n",
       "    <tr>\n",
       "      <th>3</th>\n",
       "      <td>1960.749678</td>\n",
       "      <td>1995.453247</td>\n",
       "      <td>2030.156817</td>\n",
       "      <td>-3.107384</td>\n",
       "      <td>-3.024620</td>\n",
       "      <td>-2.941856</td>\n",
       "      <td>-8.664764</td>\n",
       "      <td>-7.474135</td>\n",
       "      <td>-6.283507</td>\n",
       "      <td>-8.246195</td>\n",
       "      <td>-6.812896</td>\n",
       "      <td>-5.379596</td>\n",
       "      <td>-9.562721</td>\n",
       "      <td>-6.769558</td>\n",
       "      <td>-3.976395</td>\n",
       "      <td>-8.256723</td>\n",
       "      <td>-6.638976</td>\n",
       "      <td>-5.021228</td>\n",
       "    </tr>\n",
       "    <tr>\n",
       "      <th>4</th>\n",
       "      <td>1000.228975</td>\n",
       "      <td>1021.964050</td>\n",
       "      <td>1043.699126</td>\n",
       "      <td>-3.698923</td>\n",
       "      <td>-3.579576</td>\n",
       "      <td>-3.460230</td>\n",
       "      <td>-9.045152</td>\n",
       "      <td>-8.149136</td>\n",
       "      <td>-7.253119</td>\n",
       "      <td>-7.204746</td>\n",
       "      <td>-6.680446</td>\n",
       "      <td>-6.156146</td>\n",
       "      <td>-8.136288</td>\n",
       "      <td>-5.785867</td>\n",
       "      <td>-3.435446</td>\n",
       "      <td>-10.727084</td>\n",
       "      <td>-8.634022</td>\n",
       "      <td>-6.540959</td>\n",
       "    </tr>\n",
       "    <tr>\n",
       "      <th>...</th>\n",
       "      <td>...</td>\n",
       "      <td>...</td>\n",
       "      <td>...</td>\n",
       "      <td>...</td>\n",
       "      <td>...</td>\n",
       "      <td>...</td>\n",
       "      <td>...</td>\n",
       "      <td>...</td>\n",
       "      <td>...</td>\n",
       "      <td>...</td>\n",
       "      <td>...</td>\n",
       "      <td>...</td>\n",
       "      <td>...</td>\n",
       "      <td>...</td>\n",
       "      <td>...</td>\n",
       "      <td>...</td>\n",
       "      <td>...</td>\n",
       "      <td>...</td>\n",
       "    </tr>\n",
       "    <tr>\n",
       "      <th>495</th>\n",
       "      <td>1239.217755</td>\n",
       "      <td>1261.673706</td>\n",
       "      <td>1284.129658</td>\n",
       "      <td>-7.818596</td>\n",
       "      <td>-6.509627</td>\n",
       "      <td>-5.200658</td>\n",
       "      <td>-4.839828</td>\n",
       "      <td>-4.676985</td>\n",
       "      <td>-4.514142</td>\n",
       "      <td>-3.561601</td>\n",
       "      <td>-3.484992</td>\n",
       "      <td>-3.408382</td>\n",
       "      <td>-10.592431</td>\n",
       "      <td>-7.464346</td>\n",
       "      <td>-4.336260</td>\n",
       "      <td>-9.254283</td>\n",
       "      <td>-7.500788</td>\n",
       "      <td>-5.747292</td>\n",
       "    </tr>\n",
       "    <tr>\n",
       "      <th>496</th>\n",
       "      <td>1467.636761</td>\n",
       "      <td>1500.096313</td>\n",
       "      <td>1532.555866</td>\n",
       "      <td>-3.722367</td>\n",
       "      <td>-3.631026</td>\n",
       "      <td>-3.539685</td>\n",
       "      <td>-7.882856</td>\n",
       "      <td>-7.386600</td>\n",
       "      <td>-6.890343</td>\n",
       "      <td>-10.506809</td>\n",
       "      <td>-8.389006</td>\n",
       "      <td>-6.271203</td>\n",
       "      <td>-8.266145</td>\n",
       "      <td>-5.891376</td>\n",
       "      <td>-3.516607</td>\n",
       "      <td>-12.919004</td>\n",
       "      <td>-10.412751</td>\n",
       "      <td>-7.906499</td>\n",
       "    </tr>\n",
       "    <tr>\n",
       "      <th>497</th>\n",
       "      <td>933.397591</td>\n",
       "      <td>947.381348</td>\n",
       "      <td>961.365105</td>\n",
       "      <td>-4.066658</td>\n",
       "      <td>-3.979494</td>\n",
       "      <td>-3.892329</td>\n",
       "      <td>-4.403640</td>\n",
       "      <td>-4.262330</td>\n",
       "      <td>-4.121019</td>\n",
       "      <td>-11.240440</td>\n",
       "      <td>-9.558548</td>\n",
       "      <td>-7.876656</td>\n",
       "      <td>-9.327237</td>\n",
       "      <td>-6.543943</td>\n",
       "      <td>-3.760649</td>\n",
       "      <td>-10.495956</td>\n",
       "      <td>-8.698401</td>\n",
       "      <td>-6.900847</td>\n",
       "    </tr>\n",
       "    <tr>\n",
       "      <th>498</th>\n",
       "      <td>2173.674176</td>\n",
       "      <td>2198.622070</td>\n",
       "      <td>2223.569965</td>\n",
       "      <td>-11.198727</td>\n",
       "      <td>-9.486550</td>\n",
       "      <td>-7.774374</td>\n",
       "      <td>-5.867471</td>\n",
       "      <td>-5.771573</td>\n",
       "      <td>-5.675674</td>\n",
       "      <td>-6.583540</td>\n",
       "      <td>-6.215702</td>\n",
       "      <td>-5.847864</td>\n",
       "      <td>-8.893358</td>\n",
       "      <td>-6.550657</td>\n",
       "      <td>-4.207956</td>\n",
       "      <td>-5.264003</td>\n",
       "      <td>-5.211099</td>\n",
       "      <td>-5.158194</td>\n",
       "    </tr>\n",
       "    <tr>\n",
       "      <th>499</th>\n",
       "      <td>477.909402</td>\n",
       "      <td>487.888702</td>\n",
       "      <td>497.868003</td>\n",
       "      <td>-3.534814</td>\n",
       "      <td>-3.337289</td>\n",
       "      <td>-3.139765</td>\n",
       "      <td>-9.082582</td>\n",
       "      <td>-7.958016</td>\n",
       "      <td>-6.833450</td>\n",
       "      <td>-3.757101</td>\n",
       "      <td>-3.652368</td>\n",
       "      <td>-3.547635</td>\n",
       "      <td>-6.758356</td>\n",
       "      <td>-5.002094</td>\n",
       "      <td>-3.245833</td>\n",
       "      <td>-8.027047</td>\n",
       "      <td>-6.940057</td>\n",
       "      <td>-5.853067</td>\n",
       "    </tr>\n",
       "  </tbody>\n",
       "</table>\n",
       "<p>500 rows × 18 columns</p>\n",
       "</div>"
      ],
      "text/plain": [
       "                  T_q1         T_q2         T_q3  log_H2O_q1  log_H2O_q2  \\\n",
       "planet_ID                                                                  \n",
       "0          1079.940998  1096.160034  1112.379071   -8.576547   -7.593754   \n",
       "1          1581.346336  1605.782104  1630.217873   -4.957945   -4.881715   \n",
       "2          5054.174185  5117.702637  5181.231088  -10.143639   -8.585912   \n",
       "3          1960.749678  1995.453247  2030.156817   -3.107384   -3.024620   \n",
       "4          1000.228975  1021.964050  1043.699126   -3.698923   -3.579576   \n",
       "...                ...          ...          ...         ...         ...   \n",
       "495        1239.217755  1261.673706  1284.129658   -7.818596   -6.509627   \n",
       "496        1467.636761  1500.096313  1532.555866   -3.722367   -3.631026   \n",
       "497         933.397591   947.381348   961.365105   -4.066658   -3.979494   \n",
       "498        2173.674176  2198.622070  2223.569965  -11.198727   -9.486550   \n",
       "499         477.909402   487.888702   497.868003   -3.534814   -3.337289   \n",
       "\n",
       "           log_H2O_q3  log_CO2_q1  log_CO2_q2  log_CO2_q3  log_CH4_q1  \\\n",
       "planet_ID                                                               \n",
       "0           -6.610961   -4.715073   -4.574337   -4.433601  -11.221022   \n",
       "1           -4.805484   -4.924945   -4.794497   -4.664048   -9.205572   \n",
       "2           -7.028184  -11.503229   -9.515368   -7.527508  -10.243748   \n",
       "3           -2.941856   -8.664764   -7.474135   -6.283507   -8.246195   \n",
       "4           -3.460230   -9.045152   -8.149136   -7.253119   -7.204746   \n",
       "...               ...         ...         ...         ...         ...   \n",
       "495         -5.200658   -4.839828   -4.676985   -4.514142   -3.561601   \n",
       "496         -3.539685   -7.882856   -7.386600   -6.890343  -10.506809   \n",
       "497         -3.892329   -4.403640   -4.262330   -4.121019  -11.240440   \n",
       "498         -7.774374   -5.867471   -5.771573   -5.675674   -6.583540   \n",
       "499         -3.139765   -9.082582   -7.958016   -6.833450   -3.757101   \n",
       "\n",
       "           log_CH4_q2  log_CH4_q3  log_CO_q1  log_CO_q2  log_CO_q3  \\\n",
       "planet_ID                                                            \n",
       "0           -9.560147   -7.899273  -8.981201  -6.273302  -3.565402   \n",
       "1           -8.015659   -6.825746  -9.565350  -6.740133  -3.914917   \n",
       "2           -8.920275   -7.596801  -4.971709  -3.902348  -2.832986   \n",
       "3           -6.812896   -5.379596  -9.562721  -6.769558  -3.976395   \n",
       "4           -6.680446   -6.156146  -8.136288  -5.785867  -3.435446   \n",
       "...               ...         ...        ...        ...        ...   \n",
       "495         -3.484992   -3.408382 -10.592431  -7.464346  -4.336260   \n",
       "496         -8.389006   -6.271203  -8.266145  -5.891376  -3.516607   \n",
       "497         -9.558548   -7.876656  -9.327237  -6.543943  -3.760649   \n",
       "498         -6.215702   -5.847864  -8.893358  -6.550657  -4.207956   \n",
       "499         -3.652368   -3.547635  -6.758356  -5.002094  -3.245833   \n",
       "\n",
       "           log_NH3_q1  log_NH3_q2  log_NH3_q3  \n",
       "planet_ID                                      \n",
       "0           -6.395953   -6.100485   -5.805016  \n",
       "1           -9.824878   -8.174597   -6.524316  \n",
       "2          -11.003402   -8.511102   -6.018801  \n",
       "3           -8.256723   -6.638976   -5.021228  \n",
       "4          -10.727084   -8.634022   -6.540959  \n",
       "...               ...         ...         ...  \n",
       "495         -9.254283   -7.500788   -5.747292  \n",
       "496        -12.919004  -10.412751   -7.906499  \n",
       "497        -10.495956   -8.698401   -6.900847  \n",
       "498         -5.264003   -5.211099   -5.158194  \n",
       "499         -8.027047   -6.940057   -5.853067  \n",
       "\n",
       "[500 rows x 18 columns]"
      ]
     },
     "execution_count": 11,
     "metadata": {},
     "output_type": "execute_result"
    }
   ],
   "source": [
    "light_track = light_track_format(quartiles_test_pred)\n",
    "light_track"
   ]
  },
  {
   "cell_type": "code",
   "execution_count": 12,
   "id": "ffec623c-e4de-472b-b0d8-5ef7a06ff4a6",
   "metadata": {},
   "outputs": [
    {
     "data": {
      "text/plain": [
       "(500, 5000, 6)"
      ]
     },
     "execution_count": 12,
     "metadata": {},
     "output_type": "execute_result"
    }
   ],
   "source": [
    "Y_test_pred = sample_normal(mean_test, std_test)\n",
    "regular_track_format(Y_test_pred)\n",
    "Y_test_pred.shape"
   ]
  }
 ],
 "metadata": {
  "kernelspec": {
   "display_name": "Python 3 (ipykernel)",
   "language": "python",
   "name": "python3"
  },
  "language_info": {
   "codemirror_mode": {
    "name": "ipython",
    "version": 3
   },
   "file_extension": ".py",
   "mimetype": "text/x-python",
   "name": "python",
   "nbconvert_exporter": "python",
   "pygments_lexer": "ipython3",
   "version": "3.9.6"
  }
 },
 "nbformat": 4,
 "nbformat_minor": 5
}
